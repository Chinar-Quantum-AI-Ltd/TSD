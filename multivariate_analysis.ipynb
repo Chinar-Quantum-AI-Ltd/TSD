{
 "cells": [
  {
   "cell_type": "markdown",
   "id": "16a3d12f",
   "metadata": {},
   "source": [
    "# 🌦️ Daily Delhi Climate Time Series Dataset\n",
    "\n",
    "## 🗂 Overview\n",
    "\n",
    "This dataset contains **daily climate measurements for Delhi** over a period of four years (2013–2017). It is a **multivariate time series** where multiple weather-related variables are recorded for each day. The dataset is suitable for time series forecasting, multivariate analysis, and exploratory climate research.\n",
    "\n",
    "---\n",
    "\n",
    "## 📅 Temporal Structure\n",
    "\n",
    "- **Frequency:** Daily\n",
    "- **Time Span:** January 1, 2013 – December 31, 2017\n",
    "- **Timestamps:** 1462 consecutive days with no missing dates\n",
    "\n",
    "---\n",
    "\n",
    "## 📊 Features (Variables)\n",
    "\n",
    "| Column Name     | Description                                          | Data Type |\n",
    "|------------------|------------------------------------------------------|-----------|\n",
    "| `date`           | Date of observation (YYYY-MM-DD)                    | `object` (can be parsed as datetime) |\n",
    "| `meantemp`       | Mean temperature (°C)                                | `float64` |\n",
    "| `humidity`       | Mean relative humidity (%)                          | `float64` |\n",
    "| `wind_speed`     | Mean wind speed (km/h)                               | `float64` |\n",
    "| `meanpressure`   | Mean atmospheric pressure (millibars)                | `float64` |\n",
    "\n",
    "> These climate indicators are interrelated and influenced by trend and daily patterns.\n",
    "\n",
    "---\n",
    "\n",
    "## 🔍 Use Cases\n",
    "\n",
    "- **Weather forecasting** using statistical and deep learning models\n",
    "- **Trend and seasonality decomposition**\n",
    "- **Multivariate time series forecasting** (e.g., VAR, LSTM)\n",
    "- **Correlation analysis** between climate variables\n",
    "- **Environmental modeling** or anomaly detection\n",
    "\n",
    "---\n",
    "\n",
    "## 🛠 Suggested Preprocessing\n",
    "\n",
    "- Convert `date` to `datetime` format\n",
    "- Set `date` as index for time series modeling\n",
    "- Normalize/standardize features for machine learning\n",
    "- Perform stationarity checks (ADF, KPSS) before modeling\n",
    "\n",
    "---\n",
    "\n",
    "## 📦 Format\n",
    "\n",
    "- **File Name:** `DailyDelhiClimateTrain.csv`\n",
    "- **Rows:** 1462 (daily observations)\n",
    "- **Columns:** 5 (1 date column, 4 numerical features)\n",
    "- **Missing Values:** None\n",
    "\n",
    "---\n",
    "\n",
    "## 📘 Notes\n",
    "\n",
    "- Time series modeling may require lagged variables or rolling windows.\n",
    "- Ideal for testing **univariate vs. multivariate** forecasting approaches.\n"
   ]
  },
  {
   "cell_type": "code",
   "execution_count": null,
   "id": "7c3305e0",
   "metadata": {},
   "outputs": [],
   "source": [
    "# importing the libraries\n",
    "import numpy as np\n",
    "import matplotlib.pyplot as plt\n",
    "import pandas as pd\n",
    "import seaborn as sns"
   ]
  },
  {
   "cell_type": "code",
   "execution_count": null,
   "id": "697d86ec",
   "metadata": {},
   "outputs": [],
   "source": [
    "# Loading the data\n",
    "\n",
    "# Load data\n",
    "df = pd.read_csv(\"data/DailyDelhiClimateTrain.csv\")\n",
    "df[\"date\"] = pd.to_datetime(df[\"date\"], format=\"%Y-%m-%d\")\n",
    "df.set_index(\"date\", inplace=True)\n",
    "# df = df.drop(columns=[\"Unnamed: 0\"])\n"
   ]
  },
  {
   "cell_type": "code",
   "execution_count": null,
   "id": "3cec5ad3",
   "metadata": {},
   "outputs": [],
   "source": [
    "# printing the first 5 rows\n",
    "df.head()"
   ]
  },
  {
   "cell_type": "code",
   "execution_count": null,
   "id": "f4cb01ca",
   "metadata": {},
   "outputs": [],
   "source": [
    "# plotting the time series for all the features\n",
    "\n",
    "plt.figure(figsize=(26, 10))\n",
    "\n",
    "for i, col in enumerate(df.columns, 1):\n",
    "    plt.subplot(4, 1, i)\n",
    "    plt.plot(df.index, df[col], label=col, color=sns.color_palette()[i - 1])\n",
    "    plt.title(f\"Time series plot of {col}\")\n",
    "    plt.xlabel(\"Date\")\n",
    "    plt.ylabel(col)\n",
    "    plt.tight_layout()\n",
    "\n",
    "plt.suptitle(\"Time series plots of all features\", fontsize=20, y=1.02)\n",
    "plt.show()"
   ]
  },
  {
   "cell_type": "code",
   "execution_count": null,
   "id": "24ae7884",
   "metadata": {},
   "outputs": [],
   "source": [
    "from statsmodels.tsa.seasonal import seasonal_decompose\n",
    "\n",
    "mean_temp = seasonal_decompose(df[\"meantemp\"], model=\"additive\", period=182)\n",
    "humid_ity = seasonal_decompose(df[\"humidity\"], model=\"additive\", period=731)\n",
    "windspeed = seasonal_decompose(df[\"wind_speed\"], model=\"additive\", period=731)\n",
    "mean_pressure = seasonal_decompose(df[\"meanpressure\"], model=\"additive\", period=731)\n",
    "mean_pressure.plot()\n",
    "plt.show()"
   ]
  },
  {
   "cell_type": "code",
   "execution_count": null,
   "id": "dbbcb8d2",
   "metadata": {},
   "outputs": [],
   "source": [
    "\n",
    "plt.figure(figsize=(8, 6))\n",
    "plt.subplot(2, 2, 1)\n",
    "mean_temp.seasonal.plot()\n",
    "plt.title(\"Mean Temperature\")\n",
    "\n",
    "plt.subplot(2, 2, 2)\n",
    "humid_ity.seasonal.plot()\n",
    "plt.title(\"Humidity\")\n",
    "\n",
    "plt.subplot(2, 2, 3)\n",
    "windspeed.seasonal.plot()\n",
    "plt.title(\"Wind Speed\")\n",
    "\n",
    "plt.subplot(2, 2, 4)\n",
    "mean_pressure.seasonal.plot()\n",
    "plt.title(\"Mean Pressure\")\n",
    "\n",
    "plt.tight_layout()\n",
    "plt.show()\n"
   ]
  },
  {
   "cell_type": "code",
   "execution_count": null,
   "id": "7c824ec2",
   "metadata": {},
   "outputs": [],
   "source": [
    "\n",
    "plt.figure(figsize=(8, 6))\n",
    "plt.subplot(2, 2, 1)\n",
    "mean_temp.trend.plot()\n",
    "plt.title(\"Mean Temperature\")\n",
    "\n",
    "plt.subplot(2, 2, 2)\n",
    "humid_ity.trend.plot()\n",
    "plt.title(\"Humidity\")\n",
    "\n",
    "plt.subplot(2, 2, 3)\n",
    "windspeed.trend.plot()\n",
    "plt.title(\"Wind Speed\")\n",
    "\n",
    "plt.subplot(2, 2, 4)\n",
    "mean_pressure.trend.plot()\n",
    "plt.title(\"Mean Pressure\")\n",
    "\n",
    "plt.tight_layout()\n",
    "plt.show()\n"
   ]
  },
  {
   "cell_type": "code",
   "execution_count": null,
   "id": "dd287f40",
   "metadata": {},
   "outputs": [],
   "source": [
    "\n",
    "plt.figure(figsize=(8, 6))\n",
    "plt.subplot(2, 2, 1)\n",
    "mean_temp.resid.plot()\n",
    "plt.title(\"Mean Temperature\")\n",
    "\n",
    "plt.subplot(2, 2, 2)\n",
    "humid_ity.resid.plot()\n",
    "plt.title(\"Humidity\")\n",
    "\n",
    "plt.subplot(2, 2, 3)\n",
    "windspeed.resid.plot()\n",
    "plt.title(\"Wind Speed\")\n",
    "\n",
    "plt.subplot(2, 2, 4)\n",
    "mean_pressure.resid.plot()\n",
    "plt.title(\"Mean Pressure\")\n",
    "\n",
    "plt.tight_layout()\n",
    "plt.show()\n"
   ]
  },
  {
   "cell_type": "code",
   "execution_count": null,
   "id": "4cf94174",
   "metadata": {},
   "outputs": [],
   "source": [
    "plt.figure(figsize=(8, 6))\n",
    "plt.plot(df[\"meantemp\"][:365], label=\"Mean Temperature\", color=sns.color_palette()[0])\n",
    "plt.show()"
   ]
  },
  {
   "cell_type": "code",
   "execution_count": null,
   "id": "feca69df",
   "metadata": {},
   "outputs": [],
   "source": [
    "mean_temp.trend.plot(label=\"Mean Temperature Trend\", color=sns.color_palette()[1])\n",
    "# plt.title(\"Mean Temperature Residuals\")"
   ]
  },
  {
   "cell_type": "code",
   "execution_count": null,
   "id": "ce429c26",
   "metadata": {},
   "outputs": [],
   "source": [
    "plot_acf = pd.plotting.autocorrelation_plot(df[\"meantemp\"][:365])\n",
    "plt.show()"
   ]
  },
  {
   "cell_type": "code",
   "execution_count": null,
   "id": "cbd07da0",
   "metadata": {},
   "outputs": [],
   "source": []
  }
 ],
 "metadata": {
  "kernelspec": {
   "display_name": "tsa0",
   "language": "python",
   "name": "python3"
  },
  "language_info": {
   "codemirror_mode": {
    "name": "ipython",
    "version": 3
   },
   "file_extension": ".py",
   "mimetype": "text/x-python",
   "name": "python",
   "nbconvert_exporter": "python",
   "pygments_lexer": "ipython3",
   "version": "3.12.3"
  }
 },
 "nbformat": 4,
 "nbformat_minor": 5
}
