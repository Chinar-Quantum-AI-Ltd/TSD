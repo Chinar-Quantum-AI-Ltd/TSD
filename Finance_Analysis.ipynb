{
 "cells": [
  {
   "cell_type": "markdown",
   "id": "7b581755",
   "metadata": {},
   "source": [
    "# S&P 500 Data Analysis and Preprocessing\n",
    "\n",
    "This notebook focuses on analyzing historical S&P 500 index data obtained using the `yfinance` library. The workflow includes:\n",
    "\n",
    "- **Data Acquisition:**  \n",
    "    The S&P 500 data (`sp500`) is downloaded for the period from May 23, 2022, to May 22, 2025. The dataset contains daily values for Close, High, Low, Open, and Volume.\n",
    "\n",
    "- **Data Preprocessing:**  \n",
    "    A new DataFrame (`trimmed_data`) is created to focus on the 'Close' price. The daily log returns are calculated to analyze the percentage change in closing prices, which is a common step in financial time series analysis.  \n",
    "    Missing values resulting from the log return calculation are identified and can be handled as needed.\n",
    "\n",
    "- **Exploratory Analysis:**  \n",
    "    The notebook provides an overview of the data structure, types, and summary statistics, setting the stage for further analysis or modeling.\n",
    "\n",
    "This structured approach ensures the data is clean and ready for subsequent financial analysis or predictive modeling tasks."
   ]
  },
  {
   "cell_type": "markdown",
   "id": "69f89165",
   "metadata": {},
   "source": [
    "# Documentation for the S&P 500 Dataset\n",
    "\n",
    "## S&P 500 Dataset Overview\n",
    "\n",
    "This dataset contains historical daily data for the S&P 500 index, retrieved using the `yfinance` library. The data spans from May 23, 2022, to May 22, 2025, and is indexed by date.\n",
    "\n",
    "### Features\n",
    "\n",
    "- **Close:** The closing price of the S&P 500 index for each trading day.  \n",
    "- **High:** The highest price reached by the S&P 500 index during the trading day.  \n",
    "- **Low:** The lowest price reached by the S&P 500 index during the trading day.  \n",
    "- **Open:** The opening price of the S&P 500 index at the start of the trading day.  \n",
    "- **Volume:** The total number of shares traded for all the constituent stocks in the S&P 500 index during the trading day.\n",
    "\n",
    "> **Note:**  \n",
    "> The columns are multi-indexed as `(Feature, ^GSPC)` due to the data structure returned by `yfinance`.\n",
    "\n",
    "### Preprocessed Data\n",
    "\n",
    "- The `trimmed_data` DataFrame focuses on the 'Close' price and contains the daily log returns, which represent the percentage change in closing prices from one day to the next.  \n",
    "- Log returns are commonly used in financial analysis for their statistical properties.  \n",
    "- The first row contains a `NaN` value due to the nature of the log return calculation.\n",
    "\n",
    "### Example Data\n",
    "\n",
    "#### `sp500` DataFrame (first 5 rows):\n",
    "\n",
    "| Date       | (Close, ^GSPC) | (High, ^GSPC) | (Low, ^GSPC) | (Open, ^GSPC) | (Volume, ^GSPC) |\n",
    "|------------|----------------|---------------|--------------|---------------|-----------------|\n",
    "| 2022-05-23 | 3973.75        | 3981.88       | 3909.04      | 3919.42       | 4420030000      |\n",
    "| 2022-05-24 | 3941.48        | 3955.68       | 3875.13      | 3942.94       | 4923190000      |\n",
    "| 2022-05-25 | 3978.73        | 3999.33       | 3925.03      | 3929.59       | 4802560000      |\n",
    "| 2022-05-26 | 4057.84        | 4075.14       | 3984.60      | 3984.60       | 4709970000      |\n",
    "| 2022-05-27 | 4158.24        | 4158.49       | 4077.43      | 4077.43       | 4375620000      |\n",
    "\n",
    "#### `trimmed_data` DataFrame (first 5 rows):\n",
    "\n",
    "| Date       | (Close, ^GSPC) |\n",
    "|------------|----------------|\n",
    "| 2022-05-23 | NaN            |\n",
    "| 2022-05-24 | -0.008154      |\n",
    "| 2022-05-25 | 0.009406       |\n",
    "| 2022-05-26 | 0.019688       |\n",
    "| 2022-05-27 | 0.024441       |\n",
    "\n",
    "### Usage\n",
    "\n",
    "This dataset is suitable for time series analysis, financial modeling, and exploratory data analysis related to the S&P 500 index."
   ]
  },
  {
   "cell_type": "code",
   "execution_count": 1,
   "id": "a4501ddb",
   "metadata": {},
   "outputs": [
    {
     "name": "stdout",
     "output_type": "stream",
     "text": [
      "YF.download() has changed argument auto_adjust default to True\n"
     ]
    },
    {
     "name": "stderr",
     "output_type": "stream",
     "text": [
      "[*********************100%***********************]  1 of 1 completed\n"
     ]
    },
    {
     "data": {
      "text/html": [
       "<div>\n",
       "<style scoped>\n",
       "    .dataframe tbody tr th:only-of-type {\n",
       "        vertical-align: middle;\n",
       "    }\n",
       "\n",
       "    .dataframe tbody tr th {\n",
       "        vertical-align: top;\n",
       "    }\n",
       "\n",
       "    .dataframe thead tr th {\n",
       "        text-align: left;\n",
       "    }\n",
       "\n",
       "    .dataframe thead tr:last-of-type th {\n",
       "        text-align: right;\n",
       "    }\n",
       "</style>\n",
       "<table border=\"1\" class=\"dataframe\">\n",
       "  <thead>\n",
       "    <tr>\n",
       "      <th>Price</th>\n",
       "      <th>Close</th>\n",
       "      <th>High</th>\n",
       "      <th>Low</th>\n",
       "      <th>Open</th>\n",
       "      <th>Volume</th>\n",
       "    </tr>\n",
       "    <tr>\n",
       "      <th>Ticker</th>\n",
       "      <th>^GSPC</th>\n",
       "      <th>^GSPC</th>\n",
       "      <th>^GSPC</th>\n",
       "      <th>^GSPC</th>\n",
       "      <th>^GSPC</th>\n",
       "    </tr>\n",
       "    <tr>\n",
       "      <th>Date</th>\n",
       "      <th></th>\n",
       "      <th></th>\n",
       "      <th></th>\n",
       "      <th></th>\n",
       "      <th></th>\n",
       "    </tr>\n",
       "  </thead>\n",
       "  <tbody>\n",
       "    <tr>\n",
       "      <th>2022-05-23</th>\n",
       "      <td>3973.750000</td>\n",
       "      <td>3981.879883</td>\n",
       "      <td>3909.040039</td>\n",
       "      <td>3919.419922</td>\n",
       "      <td>4420030000</td>\n",
       "    </tr>\n",
       "    <tr>\n",
       "      <th>2022-05-24</th>\n",
       "      <td>3941.479980</td>\n",
       "      <td>3955.679932</td>\n",
       "      <td>3875.129883</td>\n",
       "      <td>3942.939941</td>\n",
       "      <td>4923190000</td>\n",
       "    </tr>\n",
       "    <tr>\n",
       "      <th>2022-05-25</th>\n",
       "      <td>3978.729980</td>\n",
       "      <td>3999.330078</td>\n",
       "      <td>3925.030029</td>\n",
       "      <td>3929.590088</td>\n",
       "      <td>4802560000</td>\n",
       "    </tr>\n",
       "    <tr>\n",
       "      <th>2022-05-26</th>\n",
       "      <td>4057.840088</td>\n",
       "      <td>4075.139893</td>\n",
       "      <td>3984.600098</td>\n",
       "      <td>3984.600098</td>\n",
       "      <td>4709970000</td>\n",
       "    </tr>\n",
       "    <tr>\n",
       "      <th>2022-05-27</th>\n",
       "      <td>4158.240234</td>\n",
       "      <td>4158.490234</td>\n",
       "      <td>4077.429932</td>\n",
       "      <td>4077.429932</td>\n",
       "      <td>4375620000</td>\n",
       "    </tr>\n",
       "  </tbody>\n",
       "</table>\n",
       "</div>"
      ],
      "text/plain": [
       "Price             Close         High          Low         Open      Volume\n",
       "Ticker            ^GSPC        ^GSPC        ^GSPC        ^GSPC       ^GSPC\n",
       "Date                                                                      \n",
       "2022-05-23  3973.750000  3981.879883  3909.040039  3919.419922  4420030000\n",
       "2022-05-24  3941.479980  3955.679932  3875.129883  3942.939941  4923190000\n",
       "2022-05-25  3978.729980  3999.330078  3925.030029  3929.590088  4802560000\n",
       "2022-05-26  4057.840088  4075.139893  3984.600098  3984.600098  4709970000\n",
       "2022-05-27  4158.240234  4158.490234  4077.429932  4077.429932  4375620000"
      ]
     },
     "metadata": {},
     "output_type": "display_data"
    }
   ],
   "source": [
    "import numpy as np\n",
    "import pandas as pd\n",
    "import yfinance as yf\n",
    "\n",
    "\n",
    "# Load S&P 500 data (^GSPC)\n",
    "sp500 = yf.download('^GSPC', start='2022-05-23', end='2025-05-23')\n",
    "\n",
    "# Display the first few rows of the S&P 500 data\n",
    "display(sp500.head())\n"
   ]
  },
  {
   "cell_type": "code",
   "execution_count": 2,
   "id": "6c4f7c3b",
   "metadata": {},
   "outputs": [
    {
     "data": {
      "text/plain": [
       "pandas.core.frame.DataFrame"
      ]
     },
     "execution_count": 2,
     "metadata": {},
     "output_type": "execute_result"
    }
   ],
   "source": [
    "type(sp500)"
   ]
  },
  {
   "cell_type": "code",
   "execution_count": 3,
   "id": "ef03073a",
   "metadata": {},
   "outputs": [],
   "source": [
    "trimmed_data = sp500[['Close']].copy()"
   ]
  },
  {
   "cell_type": "code",
   "execution_count": 4,
   "id": "786872b4",
   "metadata": {},
   "outputs": [
    {
     "data": {
      "text/html": [
       "<div>\n",
       "<style scoped>\n",
       "    .dataframe tbody tr th:only-of-type {\n",
       "        vertical-align: middle;\n",
       "    }\n",
       "\n",
       "    .dataframe tbody tr th {\n",
       "        vertical-align: top;\n",
       "    }\n",
       "\n",
       "    .dataframe thead tr th {\n",
       "        text-align: left;\n",
       "    }\n",
       "\n",
       "    .dataframe thead tr:last-of-type th {\n",
       "        text-align: right;\n",
       "    }\n",
       "</style>\n",
       "<table border=\"1\" class=\"dataframe\">\n",
       "  <thead>\n",
       "    <tr>\n",
       "      <th>Price</th>\n",
       "      <th>Close</th>\n",
       "    </tr>\n",
       "    <tr>\n",
       "      <th>Ticker</th>\n",
       "      <th>^GSPC</th>\n",
       "    </tr>\n",
       "    <tr>\n",
       "      <th>Date</th>\n",
       "      <th></th>\n",
       "    </tr>\n",
       "  </thead>\n",
       "  <tbody>\n",
       "    <tr>\n",
       "      <th>2022-05-23</th>\n",
       "      <td>3973.750000</td>\n",
       "    </tr>\n",
       "    <tr>\n",
       "      <th>2022-05-24</th>\n",
       "      <td>3941.479980</td>\n",
       "    </tr>\n",
       "    <tr>\n",
       "      <th>2022-05-25</th>\n",
       "      <td>3978.729980</td>\n",
       "    </tr>\n",
       "    <tr>\n",
       "      <th>2022-05-26</th>\n",
       "      <td>4057.840088</td>\n",
       "    </tr>\n",
       "    <tr>\n",
       "      <th>2022-05-27</th>\n",
       "      <td>4158.240234</td>\n",
       "    </tr>\n",
       "  </tbody>\n",
       "</table>\n",
       "</div>"
      ],
      "text/plain": [
       "Price             Close\n",
       "Ticker            ^GSPC\n",
       "Date                   \n",
       "2022-05-23  3973.750000\n",
       "2022-05-24  3941.479980\n",
       "2022-05-25  3978.729980\n",
       "2022-05-26  4057.840088\n",
       "2022-05-27  4158.240234"
      ]
     },
     "execution_count": 4,
     "metadata": {},
     "output_type": "execute_result"
    }
   ],
   "source": [
    "trimmed_data.head()"
   ]
  },
  {
   "cell_type": "code",
   "execution_count": 5,
   "id": "160f9951",
   "metadata": {},
   "outputs": [
    {
     "data": {
      "text/plain": [
       "DatetimeIndex(['2022-05-23', '2022-05-24', '2022-05-25', '2022-05-26',\n",
       "               '2022-05-27', '2022-05-31', '2022-06-01', '2022-06-02',\n",
       "               '2022-06-03', '2022-06-06',\n",
       "               ...\n",
       "               '2025-05-09', '2025-05-12', '2025-05-13', '2025-05-14',\n",
       "               '2025-05-15', '2025-05-16', '2025-05-19', '2025-05-20',\n",
       "               '2025-05-21', '2025-05-22'],\n",
       "              dtype='datetime64[ns]', name='Date', length=753, freq=None)"
      ]
     },
     "execution_count": 5,
     "metadata": {},
     "output_type": "execute_result"
    }
   ],
   "source": [
    "trimmed_data.index"
   ]
  },
  {
   "cell_type": "code",
   "execution_count": 6,
   "id": "0165e3c2",
   "metadata": {},
   "outputs": [
    {
     "data": {
      "text/plain": [
       "MultiIndex([('Close', '^GSPC')],\n",
       "           names=['Price', 'Ticker'])"
      ]
     },
     "execution_count": 6,
     "metadata": {},
     "output_type": "execute_result"
    }
   ],
   "source": [
    "trimmed_data.columns"
   ]
  },
  {
   "cell_type": "code",
   "execution_count": 7,
   "id": "76c51fb1",
   "metadata": {},
   "outputs": [],
   "source": [
    "trimmed_data['Close'] = np.log(trimmed_data['Close'] / trimmed_data['Close'].shift(1))"
   ]
  },
  {
   "cell_type": "code",
   "execution_count": 8,
   "id": "d8d64e13",
   "metadata": {},
   "outputs": [
    {
     "data": {
      "text/html": [
       "<div>\n",
       "<style scoped>\n",
       "    .dataframe tbody tr th:only-of-type {\n",
       "        vertical-align: middle;\n",
       "    }\n",
       "\n",
       "    .dataframe tbody tr th {\n",
       "        vertical-align: top;\n",
       "    }\n",
       "\n",
       "    .dataframe thead tr th {\n",
       "        text-align: left;\n",
       "    }\n",
       "\n",
       "    .dataframe thead tr:last-of-type th {\n",
       "        text-align: right;\n",
       "    }\n",
       "</style>\n",
       "<table border=\"1\" class=\"dataframe\">\n",
       "  <thead>\n",
       "    <tr>\n",
       "      <th>Price</th>\n",
       "      <th>Close</th>\n",
       "    </tr>\n",
       "    <tr>\n",
       "      <th>Ticker</th>\n",
       "      <th>^GSPC</th>\n",
       "    </tr>\n",
       "    <tr>\n",
       "      <th>Date</th>\n",
       "      <th></th>\n",
       "    </tr>\n",
       "  </thead>\n",
       "  <tbody>\n",
       "    <tr>\n",
       "      <th>2022-05-23</th>\n",
       "      <td>NaN</td>\n",
       "    </tr>\n",
       "    <tr>\n",
       "      <th>2022-05-24</th>\n",
       "      <td>-0.008154</td>\n",
       "    </tr>\n",
       "    <tr>\n",
       "      <th>2022-05-25</th>\n",
       "      <td>0.009406</td>\n",
       "    </tr>\n",
       "    <tr>\n",
       "      <th>2022-05-26</th>\n",
       "      <td>0.019688</td>\n",
       "    </tr>\n",
       "    <tr>\n",
       "      <th>2022-05-27</th>\n",
       "      <td>0.024441</td>\n",
       "    </tr>\n",
       "  </tbody>\n",
       "</table>\n",
       "</div>"
      ],
      "text/plain": [
       "Price          Close\n",
       "Ticker         ^GSPC\n",
       "Date                \n",
       "2022-05-23       NaN\n",
       "2022-05-24 -0.008154\n",
       "2022-05-25  0.009406\n",
       "2022-05-26  0.019688\n",
       "2022-05-27  0.024441"
      ]
     },
     "execution_count": 8,
     "metadata": {},
     "output_type": "execute_result"
    }
   ],
   "source": [
    "trimmed_data.head()"
   ]
  },
  {
   "cell_type": "code",
   "execution_count": 9,
   "id": "9247d168",
   "metadata": {},
   "outputs": [
    {
     "data": {
      "text/plain": [
       "Price  Ticker\n",
       "Close  ^GSPC     1\n",
       "dtype: int64"
      ]
     },
     "execution_count": 9,
     "metadata": {},
     "output_type": "execute_result"
    }
   ],
   "source": [
    "trimmed_data.isnull().sum()"
   ]
  },
  {
   "cell_type": "code",
   "execution_count": null,
   "id": "6eccbe2c",
   "metadata": {},
   "outputs": [],
   "source": [
    "\n"
   ]
  }
 ],
 "metadata": {
  "kernelspec": {
   "display_name": ".venv",
   "language": "python",
   "name": "python3"
  },
  "language_info": {
   "codemirror_mode": {
    "name": "ipython",
    "version": 3
   },
   "file_extension": ".py",
   "mimetype": "text/x-python",
   "name": "python",
   "nbconvert_exporter": "python",
   "pygments_lexer": "ipython3",
   "version": "3.12.2"
  }
 },
 "nbformat": 4,
 "nbformat_minor": 5
}
