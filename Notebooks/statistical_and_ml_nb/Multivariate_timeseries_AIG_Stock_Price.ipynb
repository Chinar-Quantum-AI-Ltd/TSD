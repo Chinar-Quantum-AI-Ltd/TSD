{
  "nbformat": 4,
  "nbformat_minor": 0,
  "metadata": {
    "colab": {
      "provenance": []
    },
    "kernelspec": {
      "name": "python3",
      "display_name": "Python 3"
    },
    "language_info": {
      "name": "python"
    }
  },
  "cells": [
    {
      "cell_type": "markdown",
      "source": [
        "#**Multivariate Time Series Forecasting for Insurance Stock Using Macroeconomic Indicators**"
      ],
      "metadata": {
        "id": "K-L3TX0l06rJ"
      }
    },
    {
      "cell_type": "markdown",
      "source": [
        "**Problem Statement**\n",
        "The objective of this project is to forecast the quarterly closing price of an insurance stock (AIG) using a multivariate time series model that incorporates macroeconomic indicators. This has applications in financial planning, risk management, and investment strategy."
      ],
      "metadata": {
        "id": "sG8oC6iE2A3g"
      }
    },
    {
      "cell_type": "markdown",
      "source": [
        "**Step 1**\n",
        "\n",
        "**Data Acquisition**\n",
        "**AIG stock data** is fetched monthly from yfinance and then resampled to quarter‑end values, giving us our primary series, AIG.\n",
        "\n",
        "**Macroeconomic data (Real GDP, CPI, Unemployment Rate**) come from FRED and are aligned to the same quarter‑end dates.\n",
        "\n",
        "These 2 (AIG stock data and Macroeconomic data) are merged into one DataFrame, ensuring there are no missing entries."
      ],
      "metadata": {
        "id": "sIVT3eOa2G7I"
      }
    },
    {
      "cell_type": "markdown",
      "source": [
        " **Step 2: Exploratory Data Analysis (EDA)**\n",
        "Summary stats and missing values were checked.\n",
        "\n",
        "Line plots visualized seasonal and trend components.\n",
        "\n",
        "Seasonal Decomposition of the target (AIG).\n",
        "\n",
        "Correlation matrix revealed relationships between variables."
      ],
      "metadata": {
        "id": "CA-9Aymp45F7"
      }
    },
    {
      "cell_type": "markdown",
      "source": [
        "**Step 3: Feature Engineering**\n",
        "Created lagged and rolling average features for each time series.\n",
        "\n",
        "Added lag1 and rolling mean (window=2) columns for both stock and macro features."
      ],
      "metadata": {
        "id": "SzlKNaFP5AAE"
      }
    },
    {
      "cell_type": "markdown",
      "source": [
        "**Step 4: Stationarity & Differencing**\n",
        "Used the ADF test to check stationarity.\n",
        "\n",
        "Differenced non-stationary series using percentage change.\n",
        "\n",
        "Final set of features included both raw and differenced values."
      ],
      "metadata": {
        "id": "Yt55OF4r5Dw-"
      }
    },
    {
      "cell_type": "markdown",
      "source": [
        "**Step 5: Scaling**\n",
        "StandardScaler was applied to the entire DataFrame to prepare for modeling."
      ],
      "metadata": {
        "id": "bSLn56e05HoI"
      }
    },
    {
      "cell_type": "markdown",
      "source": [
        "**Step 6: Granger Causality Tests**\n",
        "\n",
        "Granger Causality Tests to identify macroeconomic variables that statistically cause changes in AIG.\n",
        "\n",
        "Correlation with Target measured feature relevance before modeling."
      ],
      "metadata": {
        "id": "LUjWzvkl5O3a"
      }
    },
    {
      "cell_type": "markdown",
      "source": [
        "**Step 7: Train-Test Split**\n",
        "\n",
        "Split done chronologically (time-aware), not randomly."
      ],
      "metadata": {
        "id": "bt7y1DP85j9s"
      }
    },
    {
      "cell_type": "markdown",
      "source": [
        "**Step 8: Model Training, forecasting and evaluation**\n",
        "\n",
        "Trained the data on VAR and XG-Boost"
      ],
      "metadata": {
        "id": "FfyYnKRb5q3H"
      }
    },
    {
      "cell_type": "markdown",
      "source": [
        "**Summary**\n",
        "\n",
        "Built an end-to-end multivariate forecasting system.\n",
        "\n",
        "Combined statistical models (VAR) and machine learning models (XGBoost).\n",
        "\n",
        "Incorporated real-world macroeconomic context to improve prediction."
      ],
      "metadata": {
        "id": "-Ora1ny46NVX"
      }
    },
    {
      "cell_type": "markdown",
      "source": [
        "#Importing Libraries"
      ],
      "metadata": {
        "id": "Pes5Rkjfw2Ai"
      }
    },
    {
      "cell_type": "code",
      "execution_count": null,
      "metadata": {
        "id": "1ltGql9XrLS_"
      },
      "outputs": [],
      "source": [
        "import pandas as pd , numpy as np , matplotlib.pyplot as plt , seaborn as sns, yfinance as yf\n",
        "from pandas_datareader import data as pdr"
      ]
    },
    {
      "cell_type": "markdown",
      "source": [
        "#Data Acquisition"
      ],
      "metadata": {
        "id": "f7LQWG0Xw45k"
      }
    },
    {
      "cell_type": "code",
      "source": [
        "#Download insurance stock (AIG) monthly prices and resample quarterly\n",
        "stock = yf.download('AIG', start='2015-01-01', end='2025-01-01', interval='1mo')\n",
        "\n",
        "# Extract closing price series and resample to quarter-end ('QE'), then rename\n",
        "close_df = stock['Close']\n",
        "\n",
        "# Resample at quarter end ('QE') and take last observation\n",
        "target_q = close_df.resample('QE').last()\n",
        "\n",
        "# Rename column to 'target'\n",
        "target_q.rename(columns={'Close': 'target'}, inplace=True)\n",
        "claims_df = target_q\n"
      ],
      "metadata": {
        "colab": {
          "base_uri": "https://localhost:8080/"
        },
        "id": "YV1mSQlHszKG",
        "outputId": "0b556eaa-e7f6-4baf-fc95-200110aa8247"
      },
      "execution_count": null,
      "outputs": [
        {
          "output_type": "stream",
          "name": "stderr",
          "text": [
            "/tmp/ipython-input-2-2877806668.py:2: FutureWarning: YF.download() has changed argument auto_adjust default to True\n",
            "  stock = yf.download('AIG', start='2015-01-01', end='2025-01-01', interval='1mo')\n",
            "[*********************100%***********************]  1 of 1 completed\n"
          ]
        }
      ]
    },
    {
      "cell_type": "code",
      "source": [
        "claims_df.head()"
      ],
      "metadata": {
        "colab": {
          "base_uri": "https://localhost:8080/",
          "height": 238
        },
        "id": "V8dAS3Z8tkM1",
        "outputId": "b6875c04-edfb-4117-f50b-569bdd132bbc"
      },
      "execution_count": null,
      "outputs": [
        {
          "output_type": "execute_result",
          "data": {
            "text/plain": [
              "Ticker            AIG\n",
              "Date                 \n",
              "2015-03-31  42.543678\n",
              "2015-06-30  48.109562\n",
              "2015-09-30  44.311291\n",
              "2015-12-31  48.559849\n",
              "2016-03-31  42.541306"
            ],
            "text/html": [
              "\n",
              "  <div id=\"df-42645e8b-257e-4268-8419-dbf482c76c11\" class=\"colab-df-container\">\n",
              "    <div>\n",
              "<style scoped>\n",
              "    .dataframe tbody tr th:only-of-type {\n",
              "        vertical-align: middle;\n",
              "    }\n",
              "\n",
              "    .dataframe tbody tr th {\n",
              "        vertical-align: top;\n",
              "    }\n",
              "\n",
              "    .dataframe thead th {\n",
              "        text-align: right;\n",
              "    }\n",
              "</style>\n",
              "<table border=\"1\" class=\"dataframe\">\n",
              "  <thead>\n",
              "    <tr style=\"text-align: right;\">\n",
              "      <th>Ticker</th>\n",
              "      <th>AIG</th>\n",
              "    </tr>\n",
              "    <tr>\n",
              "      <th>Date</th>\n",
              "      <th></th>\n",
              "    </tr>\n",
              "  </thead>\n",
              "  <tbody>\n",
              "    <tr>\n",
              "      <th>2015-03-31</th>\n",
              "      <td>42.543678</td>\n",
              "    </tr>\n",
              "    <tr>\n",
              "      <th>2015-06-30</th>\n",
              "      <td>48.109562</td>\n",
              "    </tr>\n",
              "    <tr>\n",
              "      <th>2015-09-30</th>\n",
              "      <td>44.311291</td>\n",
              "    </tr>\n",
              "    <tr>\n",
              "      <th>2015-12-31</th>\n",
              "      <td>48.559849</td>\n",
              "    </tr>\n",
              "    <tr>\n",
              "      <th>2016-03-31</th>\n",
              "      <td>42.541306</td>\n",
              "    </tr>\n",
              "  </tbody>\n",
              "</table>\n",
              "</div>\n",
              "    <div class=\"colab-df-buttons\">\n",
              "\n",
              "  <div class=\"colab-df-container\">\n",
              "    <button class=\"colab-df-convert\" onclick=\"convertToInteractive('df-42645e8b-257e-4268-8419-dbf482c76c11')\"\n",
              "            title=\"Convert this dataframe to an interactive table.\"\n",
              "            style=\"display:none;\">\n",
              "\n",
              "  <svg xmlns=\"http://www.w3.org/2000/svg\" height=\"24px\" viewBox=\"0 -960 960 960\">\n",
              "    <path d=\"M120-120v-720h720v720H120Zm60-500h600v-160H180v160Zm220 220h160v-160H400v160Zm0 220h160v-160H400v160ZM180-400h160v-160H180v160Zm440 0h160v-160H620v160ZM180-180h160v-160H180v160Zm440 0h160v-160H620v160Z\"/>\n",
              "  </svg>\n",
              "    </button>\n",
              "\n",
              "  <style>\n",
              "    .colab-df-container {\n",
              "      display:flex;\n",
              "      gap: 12px;\n",
              "    }\n",
              "\n",
              "    .colab-df-convert {\n",
              "      background-color: #E8F0FE;\n",
              "      border: none;\n",
              "      border-radius: 50%;\n",
              "      cursor: pointer;\n",
              "      display: none;\n",
              "      fill: #1967D2;\n",
              "      height: 32px;\n",
              "      padding: 0 0 0 0;\n",
              "      width: 32px;\n",
              "    }\n",
              "\n",
              "    .colab-df-convert:hover {\n",
              "      background-color: #E2EBFA;\n",
              "      box-shadow: 0px 1px 2px rgba(60, 64, 67, 0.3), 0px 1px 3px 1px rgba(60, 64, 67, 0.15);\n",
              "      fill: #174EA6;\n",
              "    }\n",
              "\n",
              "    .colab-df-buttons div {\n",
              "      margin-bottom: 4px;\n",
              "    }\n",
              "\n",
              "    [theme=dark] .colab-df-convert {\n",
              "      background-color: #3B4455;\n",
              "      fill: #D2E3FC;\n",
              "    }\n",
              "\n",
              "    [theme=dark] .colab-df-convert:hover {\n",
              "      background-color: #434B5C;\n",
              "      box-shadow: 0px 1px 3px 1px rgba(0, 0, 0, 0.15);\n",
              "      filter: drop-shadow(0px 1px 2px rgba(0, 0, 0, 0.3));\n",
              "      fill: #FFFFFF;\n",
              "    }\n",
              "  </style>\n",
              "\n",
              "    <script>\n",
              "      const buttonEl =\n",
              "        document.querySelector('#df-42645e8b-257e-4268-8419-dbf482c76c11 button.colab-df-convert');\n",
              "      buttonEl.style.display =\n",
              "        google.colab.kernel.accessAllowed ? 'block' : 'none';\n",
              "\n",
              "      async function convertToInteractive(key) {\n",
              "        const element = document.querySelector('#df-42645e8b-257e-4268-8419-dbf482c76c11');\n",
              "        const dataTable =\n",
              "          await google.colab.kernel.invokeFunction('convertToInteractive',\n",
              "                                                    [key], {});\n",
              "        if (!dataTable) return;\n",
              "\n",
              "        const docLinkHtml = 'Like what you see? Visit the ' +\n",
              "          '<a target=\"_blank\" href=https://colab.research.google.com/notebooks/data_table.ipynb>data table notebook</a>'\n",
              "          + ' to learn more about interactive tables.';\n",
              "        element.innerHTML = '';\n",
              "        dataTable['output_type'] = 'display_data';\n",
              "        await google.colab.output.renderOutput(dataTable, element);\n",
              "        const docLink = document.createElement('div');\n",
              "        docLink.innerHTML = docLinkHtml;\n",
              "        element.appendChild(docLink);\n",
              "      }\n",
              "    </script>\n",
              "  </div>\n",
              "\n",
              "\n",
              "    <div id=\"df-36f5dea0-3665-4c76-a37d-8a1001a552a9\">\n",
              "      <button class=\"colab-df-quickchart\" onclick=\"quickchart('df-36f5dea0-3665-4c76-a37d-8a1001a552a9')\"\n",
              "                title=\"Suggest charts\"\n",
              "                style=\"display:none;\">\n",
              "\n",
              "<svg xmlns=\"http://www.w3.org/2000/svg\" height=\"24px\"viewBox=\"0 0 24 24\"\n",
              "     width=\"24px\">\n",
              "    <g>\n",
              "        <path d=\"M19 3H5c-1.1 0-2 .9-2 2v14c0 1.1.9 2 2 2h14c1.1 0 2-.9 2-2V5c0-1.1-.9-2-2-2zM9 17H7v-7h2v7zm4 0h-2V7h2v10zm4 0h-2v-4h2v4z\"/>\n",
              "    </g>\n",
              "</svg>\n",
              "      </button>\n",
              "\n",
              "<style>\n",
              "  .colab-df-quickchart {\n",
              "      --bg-color: #E8F0FE;\n",
              "      --fill-color: #1967D2;\n",
              "      --hover-bg-color: #E2EBFA;\n",
              "      --hover-fill-color: #174EA6;\n",
              "      --disabled-fill-color: #AAA;\n",
              "      --disabled-bg-color: #DDD;\n",
              "  }\n",
              "\n",
              "  [theme=dark] .colab-df-quickchart {\n",
              "      --bg-color: #3B4455;\n",
              "      --fill-color: #D2E3FC;\n",
              "      --hover-bg-color: #434B5C;\n",
              "      --hover-fill-color: #FFFFFF;\n",
              "      --disabled-bg-color: #3B4455;\n",
              "      --disabled-fill-color: #666;\n",
              "  }\n",
              "\n",
              "  .colab-df-quickchart {\n",
              "    background-color: var(--bg-color);\n",
              "    border: none;\n",
              "    border-radius: 50%;\n",
              "    cursor: pointer;\n",
              "    display: none;\n",
              "    fill: var(--fill-color);\n",
              "    height: 32px;\n",
              "    padding: 0;\n",
              "    width: 32px;\n",
              "  }\n",
              "\n",
              "  .colab-df-quickchart:hover {\n",
              "    background-color: var(--hover-bg-color);\n",
              "    box-shadow: 0 1px 2px rgba(60, 64, 67, 0.3), 0 1px 3px 1px rgba(60, 64, 67, 0.15);\n",
              "    fill: var(--button-hover-fill-color);\n",
              "  }\n",
              "\n",
              "  .colab-df-quickchart-complete:disabled,\n",
              "  .colab-df-quickchart-complete:disabled:hover {\n",
              "    background-color: var(--disabled-bg-color);\n",
              "    fill: var(--disabled-fill-color);\n",
              "    box-shadow: none;\n",
              "  }\n",
              "\n",
              "  .colab-df-spinner {\n",
              "    border: 2px solid var(--fill-color);\n",
              "    border-color: transparent;\n",
              "    border-bottom-color: var(--fill-color);\n",
              "    animation:\n",
              "      spin 1s steps(1) infinite;\n",
              "  }\n",
              "\n",
              "  @keyframes spin {\n",
              "    0% {\n",
              "      border-color: transparent;\n",
              "      border-bottom-color: var(--fill-color);\n",
              "      border-left-color: var(--fill-color);\n",
              "    }\n",
              "    20% {\n",
              "      border-color: transparent;\n",
              "      border-left-color: var(--fill-color);\n",
              "      border-top-color: var(--fill-color);\n",
              "    }\n",
              "    30% {\n",
              "      border-color: transparent;\n",
              "      border-left-color: var(--fill-color);\n",
              "      border-top-color: var(--fill-color);\n",
              "      border-right-color: var(--fill-color);\n",
              "    }\n",
              "    40% {\n",
              "      border-color: transparent;\n",
              "      border-right-color: var(--fill-color);\n",
              "      border-top-color: var(--fill-color);\n",
              "    }\n",
              "    60% {\n",
              "      border-color: transparent;\n",
              "      border-right-color: var(--fill-color);\n",
              "    }\n",
              "    80% {\n",
              "      border-color: transparent;\n",
              "      border-right-color: var(--fill-color);\n",
              "      border-bottom-color: var(--fill-color);\n",
              "    }\n",
              "    90% {\n",
              "      border-color: transparent;\n",
              "      border-bottom-color: var(--fill-color);\n",
              "    }\n",
              "  }\n",
              "</style>\n",
              "\n",
              "      <script>\n",
              "        async function quickchart(key) {\n",
              "          const quickchartButtonEl =\n",
              "            document.querySelector('#' + key + ' button');\n",
              "          quickchartButtonEl.disabled = true;  // To prevent multiple clicks.\n",
              "          quickchartButtonEl.classList.add('colab-df-spinner');\n",
              "          try {\n",
              "            const charts = await google.colab.kernel.invokeFunction(\n",
              "                'suggestCharts', [key], {});\n",
              "          } catch (error) {\n",
              "            console.error('Error during call to suggestCharts:', error);\n",
              "          }\n",
              "          quickchartButtonEl.classList.remove('colab-df-spinner');\n",
              "          quickchartButtonEl.classList.add('colab-df-quickchart-complete');\n",
              "        }\n",
              "        (() => {\n",
              "          let quickchartButtonEl =\n",
              "            document.querySelector('#df-36f5dea0-3665-4c76-a37d-8a1001a552a9 button');\n",
              "          quickchartButtonEl.style.display =\n",
              "            google.colab.kernel.accessAllowed ? 'block' : 'none';\n",
              "        })();\n",
              "      </script>\n",
              "    </div>\n",
              "\n",
              "    </div>\n",
              "  </div>\n"
            ],
            "application/vnd.google.colaboratory.intrinsic+json": {
              "type": "dataframe",
              "variable_name": "claims_df",
              "summary": "{\n  \"name\": \"claims_df\",\n  \"rows\": 40,\n  \"fields\": [\n    {\n      \"column\": \"Date\",\n      \"properties\": {\n        \"dtype\": \"date\",\n        \"min\": \"2015-03-31 00:00:00\",\n        \"max\": \"2024-12-31 00:00:00\",\n        \"num_unique_values\": 40,\n        \"samples\": [\n          \"2019-12-31 00:00:00\",\n          \"2019-03-31 00:00:00\",\n          \"2018-12-31 00:00:00\"\n        ],\n        \"semantic_type\": \"\",\n        \"description\": \"\"\n      }\n    },\n    {\n      \"column\": \"AIG\",\n      \"properties\": {\n        \"dtype\": \"number\",\n        \"std\": 12.143131955920873,\n        \"min\": 20.979589462280273,\n        \"max\": 75.76575469970703,\n        \"num_unique_values\": 40,\n        \"samples\": [\n          44.129329681396484,\n          36.32286071777344,\n          32.960330963134766\n        ],\n        \"semantic_type\": \"\",\n        \"description\": \"\"\n      }\n    }\n  ]\n}"
            }
          },
          "metadata": {},
          "execution_count": 3
        }
      ]
    },
    {
      "cell_type": "code",
      "source": [
        "#Download macroeconomic indicators from FRED indicators\n",
        "\n",
        "macro_symbols = ['GDP', 'CPILFESL', 'UNRATE']  # Real GDP, CPI, Unemployment Rate\n",
        "macro_df = pdr.DataReader(macro_symbols, 'fred',\n",
        "                          start=claims_df.index.min(),\n",
        "                          end=claims_df.index.max())\n",
        "macro_df = macro_df.resample('QE').last()"
      ],
      "metadata": {
        "id": "Be2WJyoRuisD"
      },
      "execution_count": null,
      "outputs": []
    },
    {
      "cell_type": "code",
      "source": [
        "macro_df.head()"
      ],
      "metadata": {
        "colab": {
          "base_uri": "https://localhost:8080/",
          "height": 238
        },
        "id": "2SO8ukL9unqZ",
        "outputId": "3afc62de-bfcd-47b6-ee24-80dcef13fd12"
      },
      "execution_count": null,
      "outputs": [
        {
          "output_type": "execute_result",
          "data": {
            "text/plain": [
              "                  GDP  CPILFESL  UNRATE\n",
              "DATE                                   \n",
              "2015-06-30  18279.784   242.064     5.3\n",
              "2015-09-30  18401.626   243.316     5.0\n",
              "2015-12-31  18435.137   244.547     5.0\n",
              "2016-03-31  18525.933   245.913     5.0\n",
              "2016-06-30  18711.702   247.540     4.9"
            ],
            "text/html": [
              "\n",
              "  <div id=\"df-95dc259b-7ffd-4453-8d00-1b6334d62a7d\" class=\"colab-df-container\">\n",
              "    <div>\n",
              "<style scoped>\n",
              "    .dataframe tbody tr th:only-of-type {\n",
              "        vertical-align: middle;\n",
              "    }\n",
              "\n",
              "    .dataframe tbody tr th {\n",
              "        vertical-align: top;\n",
              "    }\n",
              "\n",
              "    .dataframe thead th {\n",
              "        text-align: right;\n",
              "    }\n",
              "</style>\n",
              "<table border=\"1\" class=\"dataframe\">\n",
              "  <thead>\n",
              "    <tr style=\"text-align: right;\">\n",
              "      <th></th>\n",
              "      <th>GDP</th>\n",
              "      <th>CPILFESL</th>\n",
              "      <th>UNRATE</th>\n",
              "    </tr>\n",
              "    <tr>\n",
              "      <th>DATE</th>\n",
              "      <th></th>\n",
              "      <th></th>\n",
              "      <th></th>\n",
              "    </tr>\n",
              "  </thead>\n",
              "  <tbody>\n",
              "    <tr>\n",
              "      <th>2015-06-30</th>\n",
              "      <td>18279.784</td>\n",
              "      <td>242.064</td>\n",
              "      <td>5.3</td>\n",
              "    </tr>\n",
              "    <tr>\n",
              "      <th>2015-09-30</th>\n",
              "      <td>18401.626</td>\n",
              "      <td>243.316</td>\n",
              "      <td>5.0</td>\n",
              "    </tr>\n",
              "    <tr>\n",
              "      <th>2015-12-31</th>\n",
              "      <td>18435.137</td>\n",
              "      <td>244.547</td>\n",
              "      <td>5.0</td>\n",
              "    </tr>\n",
              "    <tr>\n",
              "      <th>2016-03-31</th>\n",
              "      <td>18525.933</td>\n",
              "      <td>245.913</td>\n",
              "      <td>5.0</td>\n",
              "    </tr>\n",
              "    <tr>\n",
              "      <th>2016-06-30</th>\n",
              "      <td>18711.702</td>\n",
              "      <td>247.540</td>\n",
              "      <td>4.9</td>\n",
              "    </tr>\n",
              "  </tbody>\n",
              "</table>\n",
              "</div>\n",
              "    <div class=\"colab-df-buttons\">\n",
              "\n",
              "  <div class=\"colab-df-container\">\n",
              "    <button class=\"colab-df-convert\" onclick=\"convertToInteractive('df-95dc259b-7ffd-4453-8d00-1b6334d62a7d')\"\n",
              "            title=\"Convert this dataframe to an interactive table.\"\n",
              "            style=\"display:none;\">\n",
              "\n",
              "  <svg xmlns=\"http://www.w3.org/2000/svg\" height=\"24px\" viewBox=\"0 -960 960 960\">\n",
              "    <path d=\"M120-120v-720h720v720H120Zm60-500h600v-160H180v160Zm220 220h160v-160H400v160Zm0 220h160v-160H400v160ZM180-400h160v-160H180v160Zm440 0h160v-160H620v160ZM180-180h160v-160H180v160Zm440 0h160v-160H620v160Z\"/>\n",
              "  </svg>\n",
              "    </button>\n",
              "\n",
              "  <style>\n",
              "    .colab-df-container {\n",
              "      display:flex;\n",
              "      gap: 12px;\n",
              "    }\n",
              "\n",
              "    .colab-df-convert {\n",
              "      background-color: #E8F0FE;\n",
              "      border: none;\n",
              "      border-radius: 50%;\n",
              "      cursor: pointer;\n",
              "      display: none;\n",
              "      fill: #1967D2;\n",
              "      height: 32px;\n",
              "      padding: 0 0 0 0;\n",
              "      width: 32px;\n",
              "    }\n",
              "\n",
              "    .colab-df-convert:hover {\n",
              "      background-color: #E2EBFA;\n",
              "      box-shadow: 0px 1px 2px rgba(60, 64, 67, 0.3), 0px 1px 3px 1px rgba(60, 64, 67, 0.15);\n",
              "      fill: #174EA6;\n",
              "    }\n",
              "\n",
              "    .colab-df-buttons div {\n",
              "      margin-bottom: 4px;\n",
              "    }\n",
              "\n",
              "    [theme=dark] .colab-df-convert {\n",
              "      background-color: #3B4455;\n",
              "      fill: #D2E3FC;\n",
              "    }\n",
              "\n",
              "    [theme=dark] .colab-df-convert:hover {\n",
              "      background-color: #434B5C;\n",
              "      box-shadow: 0px 1px 3px 1px rgba(0, 0, 0, 0.15);\n",
              "      filter: drop-shadow(0px 1px 2px rgba(0, 0, 0, 0.3));\n",
              "      fill: #FFFFFF;\n",
              "    }\n",
              "  </style>\n",
              "\n",
              "    <script>\n",
              "      const buttonEl =\n",
              "        document.querySelector('#df-95dc259b-7ffd-4453-8d00-1b6334d62a7d button.colab-df-convert');\n",
              "      buttonEl.style.display =\n",
              "        google.colab.kernel.accessAllowed ? 'block' : 'none';\n",
              "\n",
              "      async function convertToInteractive(key) {\n",
              "        const element = document.querySelector('#df-95dc259b-7ffd-4453-8d00-1b6334d62a7d');\n",
              "        const dataTable =\n",
              "          await google.colab.kernel.invokeFunction('convertToInteractive',\n",
              "                                                    [key], {});\n",
              "        if (!dataTable) return;\n",
              "\n",
              "        const docLinkHtml = 'Like what you see? Visit the ' +\n",
              "          '<a target=\"_blank\" href=https://colab.research.google.com/notebooks/data_table.ipynb>data table notebook</a>'\n",
              "          + ' to learn more about interactive tables.';\n",
              "        element.innerHTML = '';\n",
              "        dataTable['output_type'] = 'display_data';\n",
              "        await google.colab.output.renderOutput(dataTable, element);\n",
              "        const docLink = document.createElement('div');\n",
              "        docLink.innerHTML = docLinkHtml;\n",
              "        element.appendChild(docLink);\n",
              "      }\n",
              "    </script>\n",
              "  </div>\n",
              "\n",
              "\n",
              "    <div id=\"df-02052057-e6bb-4e2b-8aab-6a96a59b806b\">\n",
              "      <button class=\"colab-df-quickchart\" onclick=\"quickchart('df-02052057-e6bb-4e2b-8aab-6a96a59b806b')\"\n",
              "                title=\"Suggest charts\"\n",
              "                style=\"display:none;\">\n",
              "\n",
              "<svg xmlns=\"http://www.w3.org/2000/svg\" height=\"24px\"viewBox=\"0 0 24 24\"\n",
              "     width=\"24px\">\n",
              "    <g>\n",
              "        <path d=\"M19 3H5c-1.1 0-2 .9-2 2v14c0 1.1.9 2 2 2h14c1.1 0 2-.9 2-2V5c0-1.1-.9-2-2-2zM9 17H7v-7h2v7zm4 0h-2V7h2v10zm4 0h-2v-4h2v4z\"/>\n",
              "    </g>\n",
              "</svg>\n",
              "      </button>\n",
              "\n",
              "<style>\n",
              "  .colab-df-quickchart {\n",
              "      --bg-color: #E8F0FE;\n",
              "      --fill-color: #1967D2;\n",
              "      --hover-bg-color: #E2EBFA;\n",
              "      --hover-fill-color: #174EA6;\n",
              "      --disabled-fill-color: #AAA;\n",
              "      --disabled-bg-color: #DDD;\n",
              "  }\n",
              "\n",
              "  [theme=dark] .colab-df-quickchart {\n",
              "      --bg-color: #3B4455;\n",
              "      --fill-color: #D2E3FC;\n",
              "      --hover-bg-color: #434B5C;\n",
              "      --hover-fill-color: #FFFFFF;\n",
              "      --disabled-bg-color: #3B4455;\n",
              "      --disabled-fill-color: #666;\n",
              "  }\n",
              "\n",
              "  .colab-df-quickchart {\n",
              "    background-color: var(--bg-color);\n",
              "    border: none;\n",
              "    border-radius: 50%;\n",
              "    cursor: pointer;\n",
              "    display: none;\n",
              "    fill: var(--fill-color);\n",
              "    height: 32px;\n",
              "    padding: 0;\n",
              "    width: 32px;\n",
              "  }\n",
              "\n",
              "  .colab-df-quickchart:hover {\n",
              "    background-color: var(--hover-bg-color);\n",
              "    box-shadow: 0 1px 2px rgba(60, 64, 67, 0.3), 0 1px 3px 1px rgba(60, 64, 67, 0.15);\n",
              "    fill: var(--button-hover-fill-color);\n",
              "  }\n",
              "\n",
              "  .colab-df-quickchart-complete:disabled,\n",
              "  .colab-df-quickchart-complete:disabled:hover {\n",
              "    background-color: var(--disabled-bg-color);\n",
              "    fill: var(--disabled-fill-color);\n",
              "    box-shadow: none;\n",
              "  }\n",
              "\n",
              "  .colab-df-spinner {\n",
              "    border: 2px solid var(--fill-color);\n",
              "    border-color: transparent;\n",
              "    border-bottom-color: var(--fill-color);\n",
              "    animation:\n",
              "      spin 1s steps(1) infinite;\n",
              "  }\n",
              "\n",
              "  @keyframes spin {\n",
              "    0% {\n",
              "      border-color: transparent;\n",
              "      border-bottom-color: var(--fill-color);\n",
              "      border-left-color: var(--fill-color);\n",
              "    }\n",
              "    20% {\n",
              "      border-color: transparent;\n",
              "      border-left-color: var(--fill-color);\n",
              "      border-top-color: var(--fill-color);\n",
              "    }\n",
              "    30% {\n",
              "      border-color: transparent;\n",
              "      border-left-color: var(--fill-color);\n",
              "      border-top-color: var(--fill-color);\n",
              "      border-right-color: var(--fill-color);\n",
              "    }\n",
              "    40% {\n",
              "      border-color: transparent;\n",
              "      border-right-color: var(--fill-color);\n",
              "      border-top-color: var(--fill-color);\n",
              "    }\n",
              "    60% {\n",
              "      border-color: transparent;\n",
              "      border-right-color: var(--fill-color);\n",
              "    }\n",
              "    80% {\n",
              "      border-color: transparent;\n",
              "      border-right-color: var(--fill-color);\n",
              "      border-bottom-color: var(--fill-color);\n",
              "    }\n",
              "    90% {\n",
              "      border-color: transparent;\n",
              "      border-bottom-color: var(--fill-color);\n",
              "    }\n",
              "  }\n",
              "</style>\n",
              "\n",
              "      <script>\n",
              "        async function quickchart(key) {\n",
              "          const quickchartButtonEl =\n",
              "            document.querySelector('#' + key + ' button');\n",
              "          quickchartButtonEl.disabled = true;  // To prevent multiple clicks.\n",
              "          quickchartButtonEl.classList.add('colab-df-spinner');\n",
              "          try {\n",
              "            const charts = await google.colab.kernel.invokeFunction(\n",
              "                'suggestCharts', [key], {});\n",
              "          } catch (error) {\n",
              "            console.error('Error during call to suggestCharts:', error);\n",
              "          }\n",
              "          quickchartButtonEl.classList.remove('colab-df-spinner');\n",
              "          quickchartButtonEl.classList.add('colab-df-quickchart-complete');\n",
              "        }\n",
              "        (() => {\n",
              "          let quickchartButtonEl =\n",
              "            document.querySelector('#df-02052057-e6bb-4e2b-8aab-6a96a59b806b button');\n",
              "          quickchartButtonEl.style.display =\n",
              "            google.colab.kernel.accessAllowed ? 'block' : 'none';\n",
              "        })();\n",
              "      </script>\n",
              "    </div>\n",
              "\n",
              "    </div>\n",
              "  </div>\n"
            ],
            "application/vnd.google.colaboratory.intrinsic+json": {
              "type": "dataframe",
              "variable_name": "macro_df",
              "summary": "{\n  \"name\": \"macro_df\",\n  \"rows\": 39,\n  \"fields\": [\n    {\n      \"column\": \"DATE\",\n      \"properties\": {\n        \"dtype\": \"date\",\n        \"min\": \"2015-06-30 00:00:00\",\n        \"max\": \"2024-12-31 00:00:00\",\n        \"num_unique_values\": 39,\n        \"samples\": [\n          \"2023-09-30 00:00:00\",\n          \"2024-06-30 00:00:00\",\n          \"2016-06-30 00:00:00\"\n        ],\n        \"semantic_type\": \"\",\n        \"description\": \"\"\n      }\n    },\n    {\n      \"column\": \"GDP\",\n      \"properties\": {\n        \"dtype\": \"number\",\n        \"std\": 3661.8905793590347,\n        \"min\": 18279.784,\n        \"max\": 29723.864,\n        \"num_unique_values\": 39,\n        \"samples\": [\n          27967.697,\n          29016.714,\n          18711.702\n        ],\n        \"semantic_type\": \"\",\n        \"description\": \"\"\n      }\n    },\n    {\n      \"column\": \"CPILFESL\",\n      \"properties\": {\n        \"dtype\": \"number\",\n        \"std\": 25.44019725180067,\n        \"min\": 242.064,\n        \"max\": 323.296,\n        \"num_unique_values\": 39,\n        \"samples\": [\n          310.616,\n          318.343,\n          247.54\n        ],\n        \"semantic_type\": \"\",\n        \"description\": \"\"\n      }\n    },\n    {\n      \"column\": \"UNRATE\",\n      \"properties\": {\n        \"dtype\": \"number\",\n        \"std\": 1.4193619672451698,\n        \"min\": 3.5,\n        \"max\": 11.0,\n        \"num_unique_values\": 18,\n        \"samples\": [\n          5.3,\n          5.0,\n          3.7\n        ],\n        \"semantic_type\": \"\",\n        \"description\": \"\"\n      }\n    }\n  ]\n}"
            }
          },
          "metadata": {},
          "execution_count": 5
        }
      ]
    },
    {
      "cell_type": "code",
      "source": [
        "# 2.3 Merge datasets on quarterly index\n",
        "\n",
        "df = pd.concat([claims_df, macro_df], axis=1).dropna()"
      ],
      "metadata": {
        "id": "tdZlF7WyuqQZ"
      },
      "execution_count": null,
      "outputs": []
    },
    {
      "cell_type": "code",
      "source": [
        "df.head()"
      ],
      "metadata": {
        "colab": {
          "base_uri": "https://localhost:8080/",
          "height": 206
        },
        "id": "-bHkaxjqutgf",
        "outputId": "87264ecf-dcce-40d4-8f35-bdf7b2af3733"
      },
      "execution_count": null,
      "outputs": [
        {
          "output_type": "execute_result",
          "data": {
            "text/plain": [
              "                  AIG        GDP  CPILFESL  UNRATE\n",
              "2015-06-30  48.109562  18279.784   242.064     5.3\n",
              "2015-09-30  44.311291  18401.626   243.316     5.0\n",
              "2015-12-31  48.559849  18435.137   244.547     5.0\n",
              "2016-03-31  42.541306  18525.933   245.913     5.0\n",
              "2016-06-30  41.888119  18711.702   247.540     4.9"
            ],
            "text/html": [
              "\n",
              "  <div id=\"df-28903269-de1b-4952-9307-40d4f0250910\" class=\"colab-df-container\">\n",
              "    <div>\n",
              "<style scoped>\n",
              "    .dataframe tbody tr th:only-of-type {\n",
              "        vertical-align: middle;\n",
              "    }\n",
              "\n",
              "    .dataframe tbody tr th {\n",
              "        vertical-align: top;\n",
              "    }\n",
              "\n",
              "    .dataframe thead th {\n",
              "        text-align: right;\n",
              "    }\n",
              "</style>\n",
              "<table border=\"1\" class=\"dataframe\">\n",
              "  <thead>\n",
              "    <tr style=\"text-align: right;\">\n",
              "      <th></th>\n",
              "      <th>AIG</th>\n",
              "      <th>GDP</th>\n",
              "      <th>CPILFESL</th>\n",
              "      <th>UNRATE</th>\n",
              "    </tr>\n",
              "  </thead>\n",
              "  <tbody>\n",
              "    <tr>\n",
              "      <th>2015-06-30</th>\n",
              "      <td>48.109562</td>\n",
              "      <td>18279.784</td>\n",
              "      <td>242.064</td>\n",
              "      <td>5.3</td>\n",
              "    </tr>\n",
              "    <tr>\n",
              "      <th>2015-09-30</th>\n",
              "      <td>44.311291</td>\n",
              "      <td>18401.626</td>\n",
              "      <td>243.316</td>\n",
              "      <td>5.0</td>\n",
              "    </tr>\n",
              "    <tr>\n",
              "      <th>2015-12-31</th>\n",
              "      <td>48.559849</td>\n",
              "      <td>18435.137</td>\n",
              "      <td>244.547</td>\n",
              "      <td>5.0</td>\n",
              "    </tr>\n",
              "    <tr>\n",
              "      <th>2016-03-31</th>\n",
              "      <td>42.541306</td>\n",
              "      <td>18525.933</td>\n",
              "      <td>245.913</td>\n",
              "      <td>5.0</td>\n",
              "    </tr>\n",
              "    <tr>\n",
              "      <th>2016-06-30</th>\n",
              "      <td>41.888119</td>\n",
              "      <td>18711.702</td>\n",
              "      <td>247.540</td>\n",
              "      <td>4.9</td>\n",
              "    </tr>\n",
              "  </tbody>\n",
              "</table>\n",
              "</div>\n",
              "    <div class=\"colab-df-buttons\">\n",
              "\n",
              "  <div class=\"colab-df-container\">\n",
              "    <button class=\"colab-df-convert\" onclick=\"convertToInteractive('df-28903269-de1b-4952-9307-40d4f0250910')\"\n",
              "            title=\"Convert this dataframe to an interactive table.\"\n",
              "            style=\"display:none;\">\n",
              "\n",
              "  <svg xmlns=\"http://www.w3.org/2000/svg\" height=\"24px\" viewBox=\"0 -960 960 960\">\n",
              "    <path d=\"M120-120v-720h720v720H120Zm60-500h600v-160H180v160Zm220 220h160v-160H400v160Zm0 220h160v-160H400v160ZM180-400h160v-160H180v160Zm440 0h160v-160H620v160ZM180-180h160v-160H180v160Zm440 0h160v-160H620v160Z\"/>\n",
              "  </svg>\n",
              "    </button>\n",
              "\n",
              "  <style>\n",
              "    .colab-df-container {\n",
              "      display:flex;\n",
              "      gap: 12px;\n",
              "    }\n",
              "\n",
              "    .colab-df-convert {\n",
              "      background-color: #E8F0FE;\n",
              "      border: none;\n",
              "      border-radius: 50%;\n",
              "      cursor: pointer;\n",
              "      display: none;\n",
              "      fill: #1967D2;\n",
              "      height: 32px;\n",
              "      padding: 0 0 0 0;\n",
              "      width: 32px;\n",
              "    }\n",
              "\n",
              "    .colab-df-convert:hover {\n",
              "      background-color: #E2EBFA;\n",
              "      box-shadow: 0px 1px 2px rgba(60, 64, 67, 0.3), 0px 1px 3px 1px rgba(60, 64, 67, 0.15);\n",
              "      fill: #174EA6;\n",
              "    }\n",
              "\n",
              "    .colab-df-buttons div {\n",
              "      margin-bottom: 4px;\n",
              "    }\n",
              "\n",
              "    [theme=dark] .colab-df-convert {\n",
              "      background-color: #3B4455;\n",
              "      fill: #D2E3FC;\n",
              "    }\n",
              "\n",
              "    [theme=dark] .colab-df-convert:hover {\n",
              "      background-color: #434B5C;\n",
              "      box-shadow: 0px 1px 3px 1px rgba(0, 0, 0, 0.15);\n",
              "      filter: drop-shadow(0px 1px 2px rgba(0, 0, 0, 0.3));\n",
              "      fill: #FFFFFF;\n",
              "    }\n",
              "  </style>\n",
              "\n",
              "    <script>\n",
              "      const buttonEl =\n",
              "        document.querySelector('#df-28903269-de1b-4952-9307-40d4f0250910 button.colab-df-convert');\n",
              "      buttonEl.style.display =\n",
              "        google.colab.kernel.accessAllowed ? 'block' : 'none';\n",
              "\n",
              "      async function convertToInteractive(key) {\n",
              "        const element = document.querySelector('#df-28903269-de1b-4952-9307-40d4f0250910');\n",
              "        const dataTable =\n",
              "          await google.colab.kernel.invokeFunction('convertToInteractive',\n",
              "                                                    [key], {});\n",
              "        if (!dataTable) return;\n",
              "\n",
              "        const docLinkHtml = 'Like what you see? Visit the ' +\n",
              "          '<a target=\"_blank\" href=https://colab.research.google.com/notebooks/data_table.ipynb>data table notebook</a>'\n",
              "          + ' to learn more about interactive tables.';\n",
              "        element.innerHTML = '';\n",
              "        dataTable['output_type'] = 'display_data';\n",
              "        await google.colab.output.renderOutput(dataTable, element);\n",
              "        const docLink = document.createElement('div');\n",
              "        docLink.innerHTML = docLinkHtml;\n",
              "        element.appendChild(docLink);\n",
              "      }\n",
              "    </script>\n",
              "  </div>\n",
              "\n",
              "\n",
              "    <div id=\"df-09644cd1-f88c-4a5b-9fc1-2b53e2fd328b\">\n",
              "      <button class=\"colab-df-quickchart\" onclick=\"quickchart('df-09644cd1-f88c-4a5b-9fc1-2b53e2fd328b')\"\n",
              "                title=\"Suggest charts\"\n",
              "                style=\"display:none;\">\n",
              "\n",
              "<svg xmlns=\"http://www.w3.org/2000/svg\" height=\"24px\"viewBox=\"0 0 24 24\"\n",
              "     width=\"24px\">\n",
              "    <g>\n",
              "        <path d=\"M19 3H5c-1.1 0-2 .9-2 2v14c0 1.1.9 2 2 2h14c1.1 0 2-.9 2-2V5c0-1.1-.9-2-2-2zM9 17H7v-7h2v7zm4 0h-2V7h2v10zm4 0h-2v-4h2v4z\"/>\n",
              "    </g>\n",
              "</svg>\n",
              "      </button>\n",
              "\n",
              "<style>\n",
              "  .colab-df-quickchart {\n",
              "      --bg-color: #E8F0FE;\n",
              "      --fill-color: #1967D2;\n",
              "      --hover-bg-color: #E2EBFA;\n",
              "      --hover-fill-color: #174EA6;\n",
              "      --disabled-fill-color: #AAA;\n",
              "      --disabled-bg-color: #DDD;\n",
              "  }\n",
              "\n",
              "  [theme=dark] .colab-df-quickchart {\n",
              "      --bg-color: #3B4455;\n",
              "      --fill-color: #D2E3FC;\n",
              "      --hover-bg-color: #434B5C;\n",
              "      --hover-fill-color: #FFFFFF;\n",
              "      --disabled-bg-color: #3B4455;\n",
              "      --disabled-fill-color: #666;\n",
              "  }\n",
              "\n",
              "  .colab-df-quickchart {\n",
              "    background-color: var(--bg-color);\n",
              "    border: none;\n",
              "    border-radius: 50%;\n",
              "    cursor: pointer;\n",
              "    display: none;\n",
              "    fill: var(--fill-color);\n",
              "    height: 32px;\n",
              "    padding: 0;\n",
              "    width: 32px;\n",
              "  }\n",
              "\n",
              "  .colab-df-quickchart:hover {\n",
              "    background-color: var(--hover-bg-color);\n",
              "    box-shadow: 0 1px 2px rgba(60, 64, 67, 0.3), 0 1px 3px 1px rgba(60, 64, 67, 0.15);\n",
              "    fill: var(--button-hover-fill-color);\n",
              "  }\n",
              "\n",
              "  .colab-df-quickchart-complete:disabled,\n",
              "  .colab-df-quickchart-complete:disabled:hover {\n",
              "    background-color: var(--disabled-bg-color);\n",
              "    fill: var(--disabled-fill-color);\n",
              "    box-shadow: none;\n",
              "  }\n",
              "\n",
              "  .colab-df-spinner {\n",
              "    border: 2px solid var(--fill-color);\n",
              "    border-color: transparent;\n",
              "    border-bottom-color: var(--fill-color);\n",
              "    animation:\n",
              "      spin 1s steps(1) infinite;\n",
              "  }\n",
              "\n",
              "  @keyframes spin {\n",
              "    0% {\n",
              "      border-color: transparent;\n",
              "      border-bottom-color: var(--fill-color);\n",
              "      border-left-color: var(--fill-color);\n",
              "    }\n",
              "    20% {\n",
              "      border-color: transparent;\n",
              "      border-left-color: var(--fill-color);\n",
              "      border-top-color: var(--fill-color);\n",
              "    }\n",
              "    30% {\n",
              "      border-color: transparent;\n",
              "      border-left-color: var(--fill-color);\n",
              "      border-top-color: var(--fill-color);\n",
              "      border-right-color: var(--fill-color);\n",
              "    }\n",
              "    40% {\n",
              "      border-color: transparent;\n",
              "      border-right-color: var(--fill-color);\n",
              "      border-top-color: var(--fill-color);\n",
              "    }\n",
              "    60% {\n",
              "      border-color: transparent;\n",
              "      border-right-color: var(--fill-color);\n",
              "    }\n",
              "    80% {\n",
              "      border-color: transparent;\n",
              "      border-right-color: var(--fill-color);\n",
              "      border-bottom-color: var(--fill-color);\n",
              "    }\n",
              "    90% {\n",
              "      border-color: transparent;\n",
              "      border-bottom-color: var(--fill-color);\n",
              "    }\n",
              "  }\n",
              "</style>\n",
              "\n",
              "      <script>\n",
              "        async function quickchart(key) {\n",
              "          const quickchartButtonEl =\n",
              "            document.querySelector('#' + key + ' button');\n",
              "          quickchartButtonEl.disabled = true;  // To prevent multiple clicks.\n",
              "          quickchartButtonEl.classList.add('colab-df-spinner');\n",
              "          try {\n",
              "            const charts = await google.colab.kernel.invokeFunction(\n",
              "                'suggestCharts', [key], {});\n",
              "          } catch (error) {\n",
              "            console.error('Error during call to suggestCharts:', error);\n",
              "          }\n",
              "          quickchartButtonEl.classList.remove('colab-df-spinner');\n",
              "          quickchartButtonEl.classList.add('colab-df-quickchart-complete');\n",
              "        }\n",
              "        (() => {\n",
              "          let quickchartButtonEl =\n",
              "            document.querySelector('#df-09644cd1-f88c-4a5b-9fc1-2b53e2fd328b button');\n",
              "          quickchartButtonEl.style.display =\n",
              "            google.colab.kernel.accessAllowed ? 'block' : 'none';\n",
              "        })();\n",
              "      </script>\n",
              "    </div>\n",
              "\n",
              "    </div>\n",
              "  </div>\n"
            ],
            "application/vnd.google.colaboratory.intrinsic+json": {
              "type": "dataframe",
              "variable_name": "df",
              "summary": "{\n  \"name\": \"df\",\n  \"rows\": 39,\n  \"fields\": [\n    {\n      \"column\": \"AIG\",\n      \"properties\": {\n        \"dtype\": \"number\",\n        \"std\": 12.267140126705568,\n        \"min\": 20.979589462280273,\n        \"max\": 75.76575469970703,\n        \"num_unique_values\": 39,\n        \"samples\": [\n          58.073543548583984,\n          72.29959869384766,\n          41.888118743896484\n        ],\n        \"semantic_type\": \"\",\n        \"description\": \"\"\n      }\n    },\n    {\n      \"column\": \"GDP\",\n      \"properties\": {\n        \"dtype\": \"number\",\n        \"std\": 3661.8905793590347,\n        \"min\": 18279.784,\n        \"max\": 29723.864,\n        \"num_unique_values\": 39,\n        \"samples\": [\n          27967.697,\n          29016.714,\n          18711.702\n        ],\n        \"semantic_type\": \"\",\n        \"description\": \"\"\n      }\n    },\n    {\n      \"column\": \"CPILFESL\",\n      \"properties\": {\n        \"dtype\": \"number\",\n        \"std\": 25.44019725180067,\n        \"min\": 242.064,\n        \"max\": 323.296,\n        \"num_unique_values\": 39,\n        \"samples\": [\n          310.616,\n          318.343,\n          247.54\n        ],\n        \"semantic_type\": \"\",\n        \"description\": \"\"\n      }\n    },\n    {\n      \"column\": \"UNRATE\",\n      \"properties\": {\n        \"dtype\": \"number\",\n        \"std\": 1.4193619672451698,\n        \"min\": 3.5,\n        \"max\": 11.0,\n        \"num_unique_values\": 18,\n        \"samples\": [\n          5.3,\n          5.0,\n          3.7\n        ],\n        \"semantic_type\": \"\",\n        \"description\": \"\"\n      }\n    }\n  ]\n}"
            }
          },
          "metadata": {},
          "execution_count": 8
        }
      ]
    },
    {
      "cell_type": "code",
      "source": [
        "df.info()"
      ],
      "metadata": {
        "colab": {
          "base_uri": "https://localhost:8080/"
        },
        "id": "vDHFHZpmuu7A",
        "outputId": "21914b9a-6019-4d31-8bfc-7007460071d5"
      },
      "execution_count": null,
      "outputs": [
        {
          "output_type": "stream",
          "name": "stdout",
          "text": [
            "<class 'pandas.core.frame.DataFrame'>\n",
            "DatetimeIndex: 39 entries, 2015-06-30 to 2024-12-31\n",
            "Freq: QE-DEC\n",
            "Data columns (total 4 columns):\n",
            " #   Column    Non-Null Count  Dtype  \n",
            "---  ------    --------------  -----  \n",
            " 0   AIG       39 non-null     float64\n",
            " 1   GDP       39 non-null     float64\n",
            " 2   CPILFESL  39 non-null     float64\n",
            " 3   UNRATE    39 non-null     float64\n",
            "dtypes: float64(4)\n",
            "memory usage: 1.5 KB\n"
          ]
        }
      ]
    },
    {
      "cell_type": "code",
      "source": [
        "df.describe()"
      ],
      "metadata": {
        "colab": {
          "base_uri": "https://localhost:8080/",
          "height": 300
        },
        "id": "TmejIPg-uzTb",
        "outputId": "f93b634d-c3b4-4b6f-d74c-7926d26bd1df"
      },
      "execution_count": null,
      "outputs": [
        {
          "output_type": "execute_result",
          "data": {
            "text/plain": [
              "             AIG           GDP    CPILFESL     UNRATE\n",
              "count  39.000000     39.000000   39.000000  39.000000\n",
              "mean   48.310683  22804.145359  274.468000   4.558974\n",
              "std    12.267140   3661.890579   25.440197   1.419362\n",
              "min    20.979597  18279.784000  242.064000   3.500000\n",
              "25%    43.522387  19814.019500  253.578000   3.750000\n",
              "50%    47.618820  21717.171000  266.020000   4.100000\n",
              "75%    52.283562  26038.901000  296.145000   4.950000\n",
              "max    75.765762  29723.864000  323.296000  11.000000"
            ],
            "text/html": [
              "\n",
              "  <div id=\"df-23bde102-c35b-4f3d-b0cf-e61d93464eaa\" class=\"colab-df-container\">\n",
              "    <div>\n",
              "<style scoped>\n",
              "    .dataframe tbody tr th:only-of-type {\n",
              "        vertical-align: middle;\n",
              "    }\n",
              "\n",
              "    .dataframe tbody tr th {\n",
              "        vertical-align: top;\n",
              "    }\n",
              "\n",
              "    .dataframe thead th {\n",
              "        text-align: right;\n",
              "    }\n",
              "</style>\n",
              "<table border=\"1\" class=\"dataframe\">\n",
              "  <thead>\n",
              "    <tr style=\"text-align: right;\">\n",
              "      <th></th>\n",
              "      <th>AIG</th>\n",
              "      <th>GDP</th>\n",
              "      <th>CPILFESL</th>\n",
              "      <th>UNRATE</th>\n",
              "    </tr>\n",
              "  </thead>\n",
              "  <tbody>\n",
              "    <tr>\n",
              "      <th>count</th>\n",
              "      <td>39.000000</td>\n",
              "      <td>39.000000</td>\n",
              "      <td>39.000000</td>\n",
              "      <td>39.000000</td>\n",
              "    </tr>\n",
              "    <tr>\n",
              "      <th>mean</th>\n",
              "      <td>48.310683</td>\n",
              "      <td>22804.145359</td>\n",
              "      <td>274.468000</td>\n",
              "      <td>4.558974</td>\n",
              "    </tr>\n",
              "    <tr>\n",
              "      <th>std</th>\n",
              "      <td>12.267140</td>\n",
              "      <td>3661.890579</td>\n",
              "      <td>25.440197</td>\n",
              "      <td>1.419362</td>\n",
              "    </tr>\n",
              "    <tr>\n",
              "      <th>min</th>\n",
              "      <td>20.979597</td>\n",
              "      <td>18279.784000</td>\n",
              "      <td>242.064000</td>\n",
              "      <td>3.500000</td>\n",
              "    </tr>\n",
              "    <tr>\n",
              "      <th>25%</th>\n",
              "      <td>43.522387</td>\n",
              "      <td>19814.019500</td>\n",
              "      <td>253.578000</td>\n",
              "      <td>3.750000</td>\n",
              "    </tr>\n",
              "    <tr>\n",
              "      <th>50%</th>\n",
              "      <td>47.618820</td>\n",
              "      <td>21717.171000</td>\n",
              "      <td>266.020000</td>\n",
              "      <td>4.100000</td>\n",
              "    </tr>\n",
              "    <tr>\n",
              "      <th>75%</th>\n",
              "      <td>52.283562</td>\n",
              "      <td>26038.901000</td>\n",
              "      <td>296.145000</td>\n",
              "      <td>4.950000</td>\n",
              "    </tr>\n",
              "    <tr>\n",
              "      <th>max</th>\n",
              "      <td>75.765762</td>\n",
              "      <td>29723.864000</td>\n",
              "      <td>323.296000</td>\n",
              "      <td>11.000000</td>\n",
              "    </tr>\n",
              "  </tbody>\n",
              "</table>\n",
              "</div>\n",
              "    <div class=\"colab-df-buttons\">\n",
              "\n",
              "  <div class=\"colab-df-container\">\n",
              "    <button class=\"colab-df-convert\" onclick=\"convertToInteractive('df-23bde102-c35b-4f3d-b0cf-e61d93464eaa')\"\n",
              "            title=\"Convert this dataframe to an interactive table.\"\n",
              "            style=\"display:none;\">\n",
              "\n",
              "  <svg xmlns=\"http://www.w3.org/2000/svg\" height=\"24px\" viewBox=\"0 -960 960 960\">\n",
              "    <path d=\"M120-120v-720h720v720H120Zm60-500h600v-160H180v160Zm220 220h160v-160H400v160Zm0 220h160v-160H400v160ZM180-400h160v-160H180v160Zm440 0h160v-160H620v160ZM180-180h160v-160H180v160Zm440 0h160v-160H620v160Z\"/>\n",
              "  </svg>\n",
              "    </button>\n",
              "\n",
              "  <style>\n",
              "    .colab-df-container {\n",
              "      display:flex;\n",
              "      gap: 12px;\n",
              "    }\n",
              "\n",
              "    .colab-df-convert {\n",
              "      background-color: #E8F0FE;\n",
              "      border: none;\n",
              "      border-radius: 50%;\n",
              "      cursor: pointer;\n",
              "      display: none;\n",
              "      fill: #1967D2;\n",
              "      height: 32px;\n",
              "      padding: 0 0 0 0;\n",
              "      width: 32px;\n",
              "    }\n",
              "\n",
              "    .colab-df-convert:hover {\n",
              "      background-color: #E2EBFA;\n",
              "      box-shadow: 0px 1px 2px rgba(60, 64, 67, 0.3), 0px 1px 3px 1px rgba(60, 64, 67, 0.15);\n",
              "      fill: #174EA6;\n",
              "    }\n",
              "\n",
              "    .colab-df-buttons div {\n",
              "      margin-bottom: 4px;\n",
              "    }\n",
              "\n",
              "    [theme=dark] .colab-df-convert {\n",
              "      background-color: #3B4455;\n",
              "      fill: #D2E3FC;\n",
              "    }\n",
              "\n",
              "    [theme=dark] .colab-df-convert:hover {\n",
              "      background-color: #434B5C;\n",
              "      box-shadow: 0px 1px 3px 1px rgba(0, 0, 0, 0.15);\n",
              "      filter: drop-shadow(0px 1px 2px rgba(0, 0, 0, 0.3));\n",
              "      fill: #FFFFFF;\n",
              "    }\n",
              "  </style>\n",
              "\n",
              "    <script>\n",
              "      const buttonEl =\n",
              "        document.querySelector('#df-23bde102-c35b-4f3d-b0cf-e61d93464eaa button.colab-df-convert');\n",
              "      buttonEl.style.display =\n",
              "        google.colab.kernel.accessAllowed ? 'block' : 'none';\n",
              "\n",
              "      async function convertToInteractive(key) {\n",
              "        const element = document.querySelector('#df-23bde102-c35b-4f3d-b0cf-e61d93464eaa');\n",
              "        const dataTable =\n",
              "          await google.colab.kernel.invokeFunction('convertToInteractive',\n",
              "                                                    [key], {});\n",
              "        if (!dataTable) return;\n",
              "\n",
              "        const docLinkHtml = 'Like what you see? Visit the ' +\n",
              "          '<a target=\"_blank\" href=https://colab.research.google.com/notebooks/data_table.ipynb>data table notebook</a>'\n",
              "          + ' to learn more about interactive tables.';\n",
              "        element.innerHTML = '';\n",
              "        dataTable['output_type'] = 'display_data';\n",
              "        await google.colab.output.renderOutput(dataTable, element);\n",
              "        const docLink = document.createElement('div');\n",
              "        docLink.innerHTML = docLinkHtml;\n",
              "        element.appendChild(docLink);\n",
              "      }\n",
              "    </script>\n",
              "  </div>\n",
              "\n",
              "\n",
              "    <div id=\"df-03de86f4-91e0-462e-abea-5bb6a46a63e5\">\n",
              "      <button class=\"colab-df-quickchart\" onclick=\"quickchart('df-03de86f4-91e0-462e-abea-5bb6a46a63e5')\"\n",
              "                title=\"Suggest charts\"\n",
              "                style=\"display:none;\">\n",
              "\n",
              "<svg xmlns=\"http://www.w3.org/2000/svg\" height=\"24px\"viewBox=\"0 0 24 24\"\n",
              "     width=\"24px\">\n",
              "    <g>\n",
              "        <path d=\"M19 3H5c-1.1 0-2 .9-2 2v14c0 1.1.9 2 2 2h14c1.1 0 2-.9 2-2V5c0-1.1-.9-2-2-2zM9 17H7v-7h2v7zm4 0h-2V7h2v10zm4 0h-2v-4h2v4z\"/>\n",
              "    </g>\n",
              "</svg>\n",
              "      </button>\n",
              "\n",
              "<style>\n",
              "  .colab-df-quickchart {\n",
              "      --bg-color: #E8F0FE;\n",
              "      --fill-color: #1967D2;\n",
              "      --hover-bg-color: #E2EBFA;\n",
              "      --hover-fill-color: #174EA6;\n",
              "      --disabled-fill-color: #AAA;\n",
              "      --disabled-bg-color: #DDD;\n",
              "  }\n",
              "\n",
              "  [theme=dark] .colab-df-quickchart {\n",
              "      --bg-color: #3B4455;\n",
              "      --fill-color: #D2E3FC;\n",
              "      --hover-bg-color: #434B5C;\n",
              "      --hover-fill-color: #FFFFFF;\n",
              "      --disabled-bg-color: #3B4455;\n",
              "      --disabled-fill-color: #666;\n",
              "  }\n",
              "\n",
              "  .colab-df-quickchart {\n",
              "    background-color: var(--bg-color);\n",
              "    border: none;\n",
              "    border-radius: 50%;\n",
              "    cursor: pointer;\n",
              "    display: none;\n",
              "    fill: var(--fill-color);\n",
              "    height: 32px;\n",
              "    padding: 0;\n",
              "    width: 32px;\n",
              "  }\n",
              "\n",
              "  .colab-df-quickchart:hover {\n",
              "    background-color: var(--hover-bg-color);\n",
              "    box-shadow: 0 1px 2px rgba(60, 64, 67, 0.3), 0 1px 3px 1px rgba(60, 64, 67, 0.15);\n",
              "    fill: var(--button-hover-fill-color);\n",
              "  }\n",
              "\n",
              "  .colab-df-quickchart-complete:disabled,\n",
              "  .colab-df-quickchart-complete:disabled:hover {\n",
              "    background-color: var(--disabled-bg-color);\n",
              "    fill: var(--disabled-fill-color);\n",
              "    box-shadow: none;\n",
              "  }\n",
              "\n",
              "  .colab-df-spinner {\n",
              "    border: 2px solid var(--fill-color);\n",
              "    border-color: transparent;\n",
              "    border-bottom-color: var(--fill-color);\n",
              "    animation:\n",
              "      spin 1s steps(1) infinite;\n",
              "  }\n",
              "\n",
              "  @keyframes spin {\n",
              "    0% {\n",
              "      border-color: transparent;\n",
              "      border-bottom-color: var(--fill-color);\n",
              "      border-left-color: var(--fill-color);\n",
              "    }\n",
              "    20% {\n",
              "      border-color: transparent;\n",
              "      border-left-color: var(--fill-color);\n",
              "      border-top-color: var(--fill-color);\n",
              "    }\n",
              "    30% {\n",
              "      border-color: transparent;\n",
              "      border-left-color: var(--fill-color);\n",
              "      border-top-color: var(--fill-color);\n",
              "      border-right-color: var(--fill-color);\n",
              "    }\n",
              "    40% {\n",
              "      border-color: transparent;\n",
              "      border-right-color: var(--fill-color);\n",
              "      border-top-color: var(--fill-color);\n",
              "    }\n",
              "    60% {\n",
              "      border-color: transparent;\n",
              "      border-right-color: var(--fill-color);\n",
              "    }\n",
              "    80% {\n",
              "      border-color: transparent;\n",
              "      border-right-color: var(--fill-color);\n",
              "      border-bottom-color: var(--fill-color);\n",
              "    }\n",
              "    90% {\n",
              "      border-color: transparent;\n",
              "      border-bottom-color: var(--fill-color);\n",
              "    }\n",
              "  }\n",
              "</style>\n",
              "\n",
              "      <script>\n",
              "        async function quickchart(key) {\n",
              "          const quickchartButtonEl =\n",
              "            document.querySelector('#' + key + ' button');\n",
              "          quickchartButtonEl.disabled = true;  // To prevent multiple clicks.\n",
              "          quickchartButtonEl.classList.add('colab-df-spinner');\n",
              "          try {\n",
              "            const charts = await google.colab.kernel.invokeFunction(\n",
              "                'suggestCharts', [key], {});\n",
              "          } catch (error) {\n",
              "            console.error('Error during call to suggestCharts:', error);\n",
              "          }\n",
              "          quickchartButtonEl.classList.remove('colab-df-spinner');\n",
              "          quickchartButtonEl.classList.add('colab-df-quickchart-complete');\n",
              "        }\n",
              "        (() => {\n",
              "          let quickchartButtonEl =\n",
              "            document.querySelector('#df-03de86f4-91e0-462e-abea-5bb6a46a63e5 button');\n",
              "          quickchartButtonEl.style.display =\n",
              "            google.colab.kernel.accessAllowed ? 'block' : 'none';\n",
              "        })();\n",
              "      </script>\n",
              "    </div>\n",
              "\n",
              "    </div>\n",
              "  </div>\n"
            ],
            "application/vnd.google.colaboratory.intrinsic+json": {
              "type": "dataframe",
              "summary": "{\n  \"name\": \"df\",\n  \"rows\": 8,\n  \"fields\": [\n    {\n      \"column\": \"AIG\",\n      \"properties\": {\n        \"dtype\": \"number\",\n        \"std\": 19.466954722933345,\n        \"min\": 12.267139952425264,\n        \"max\": 75.76576232910156,\n        \"num_unique_values\": 8,\n        \"samples\": [\n          48.31068317706768,\n          47.61882019042969,\n          39.0\n        ],\n        \"semantic_type\": \"\",\n        \"description\": \"\"\n      }\n    },\n    {\n      \"column\": \"GDP\",\n      \"properties\": {\n        \"dtype\": \"number\",\n        \"std\": 10488.473604499359,\n        \"min\": 39.0,\n        \"max\": 29723.864,\n        \"num_unique_values\": 8,\n        \"samples\": [\n          22804.145358974358,\n          21717.171,\n          39.0\n        ],\n        \"semantic_type\": \"\",\n        \"description\": \"\"\n      }\n    },\n    {\n      \"column\": \"CPILFESL\",\n      \"properties\": {\n        \"dtype\": \"number\",\n        \"std\": 115.62356349517783,\n        \"min\": 25.44019725180067,\n        \"max\": 323.296,\n        \"num_unique_values\": 8,\n        \"samples\": [\n          274.468,\n          266.02,\n          39.0\n        ],\n        \"semantic_type\": \"\",\n        \"description\": \"\"\n      }\n    },\n    {\n      \"column\": \"UNRATE\",\n      \"properties\": {\n        \"dtype\": \"number\",\n        \"std\": 12.417752832359948,\n        \"min\": 1.4193619672451698,\n        \"max\": 39.0,\n        \"num_unique_values\": 8,\n        \"samples\": [\n          4.55897435897436,\n          4.1,\n          39.0\n        ],\n        \"semantic_type\": \"\",\n        \"description\": \"\"\n      }\n    }\n  ]\n}"
            }
          },
          "metadata": {},
          "execution_count": 9
        }
      ]
    },
    {
      "cell_type": "markdown",
      "source": [
        "#EDA"
      ],
      "metadata": {
        "id": "W119SxjPxJZV"
      }
    },
    {
      "cell_type": "code",
      "source": [
        "# Plot series\n",
        "df.plot(subplots=True, figsize=(12, 8))\n",
        "plt.tight_layout()\n",
        "plt.show()"
      ],
      "metadata": {
        "colab": {
          "base_uri": "https://localhost:8080/",
          "height": 807
        },
        "id": "4cz2Ce9Au13o",
        "outputId": "28770a95-ef67-4a96-8091-b3e47a0f0124"
      },
      "execution_count": null,
      "outputs": [
        {
          "output_type": "display_data",
          "data": {
            "text/plain": [
              "<Figure size 1200x800 with 4 Axes>"
            ],
            "image/png": "[encoded data removed]"
          },
          "metadata": {}
        }
      ]
    },
    {
      "cell_type": "markdown",
      "source": [
        "**Explanation**\n",
        "\n",
        "AIG (Stock Price) fluctuated between 30 - 70 dollars, saw a sharp dip in 2020 due to COVID-19, followed by a steady post-pandemic recovery\n",
        "\n",
        "US real GDP shows a long-term upward trend, with a sharp dip in Q2 2020 from COVID-19, followed by a swift recovery and continued growth.\n",
        "\n",
        "Core CPI (CPILFESL) shows a smooth, steady rise, with a sharper post-2020 uptick reflecting underlying inflation pressures after the pandemic\n",
        "\n",
        "The unemployment rate showed a steady decline until a sharp spike in Q2 2020 due to the pandemic, followed by a rapid recovery to pre-pandemic levels by 2022."
      ],
      "metadata": {
        "id": "uCpu-3fWxjCE"
      }
    },
    {
      "cell_type": "code",
      "source": [
        "# Decompose target series (period=4 for quarterly)\n",
        "from statsmodels.tsa.seasonal import seasonal_decompose\n",
        "result = seasonal_decompose(df['AIG'], model='additive', period=4)\n",
        "result.plot()\n",
        "plt.show()"
      ],
      "metadata": {
        "colab": {
          "base_uri": "https://localhost:8080/",
          "height": 487
        },
        "id": "1XXNg7knu9J8",
        "outputId": "23fe4afd-58ee-4bfb-d28c-6d452030c558"
      },
      "execution_count": null,
      "outputs": [
        {
          "output_type": "display_data",
          "data": {
            "text/plain": [
              "<Figure size 640x480 with 4 Axes>"
            ],
            "image/png": "[encoded data removed]"
          },
          "metadata": {}
        }
      ]
    },
    {
      "cell_type": "markdown",
      "source": [
        "**Explanation**\n",
        "\n",
        "**Trend** : The stock's long-term trend was flat until 2019, dipped during the 2020 pandemic, then surged upward, signaling strong post-shock growth.\n",
        "\n",
        "**Seasonality**: The stock exhibits consistent seasonal patterns with small, periodic peaks every 4 quarters, likely driven by investor behavior, earnings cycles, or insurance seasonality\n",
        "\n",
        "**Residual**: The residuals fluctuate randomly around zero with some outliers in 2020, indicating minimal remaining structure after removing trend and seasonality."
      ],
      "metadata": {
        "id": "7QdAQScNyuZG"
      }
    },
    {
      "cell_type": "code",
      "source": [
        "plt.figure(figsize=(6,5))\n",
        "sns.heatmap(df.corr(), annot=True, fmt='.2f', cmap='coolwarm')\n",
        "plt.title('Correlation Matrix')\n",
        "plt.show()\n"
      ],
      "metadata": {
        "colab": {
          "base_uri": "https://localhost:8080/",
          "height": 468
        },
        "id": "G_VAJPxbvFDr",
        "outputId": "80457b69-02f2-47a8-cf2a-b6b6c5411487"
      },
      "execution_count": null,
      "outputs": [
        {
          "output_type": "display_data",
          "data": {
            "text/plain": [
              "<Figure size 600x500 with 2 Axes>"
            ],
            "image/png": "[encoded data removed]"
          },
          "metadata": {}
        }
      ]
    },
    {
      "cell_type": "markdown",
      "source": [
        "**Explanation**\n",
        "\n",
        "AIG - GDP shows strong positive relationship. As GDP grows, AIG stock tends to increase.\n",
        "\n",
        "AIG–CPILFESL also strongly positively correlated. Rising core inflation may reflect economic growth, benefitting insurers.\n",
        "\n",
        "AIG–UNRATE shows moderate negative correlation. As unemployment rises, AIG stock tends to fall—likely due to lower economic activity.\n",
        "\n",
        "**Summary**\n",
        "\n",
        "AIG stock is highly sensitive to macroeconomic trends—particularly economic growth (GDP), inflation (CPI), and employment.\n",
        "\n",
        "These variables are appropriate predictors for a multivariate time series model like VAR or XGBoost"
      ],
      "metadata": {
        "id": "kmZpODnhzXZB"
      }
    },
    {
      "cell_type": "code",
      "source": [
        "#Preprocessing\n",
        "# Feature engineering: lags and rolling means\n",
        "\n",
        "for col in df.columns:\n",
        "    df[f'{col}_lag1'] = df[col].shift(1)\n",
        "    df[f'{col}_roll2'] = df[col].rolling(window=2).mean()\n",
        "df.dropna(inplace=True)"
      ],
      "metadata": {
        "id": "6o2LmoIiPnyN"
      },
      "execution_count": null,
      "outputs": []
    },
    {
      "cell_type": "markdown",
      "source": [
        "#Checking Stationarity"
      ],
      "metadata": {
        "id": "LoWb-It_z1Be"
      }
    },
    {
      "cell_type": "code",
      "source": [
        "from statsmodels.tsa.stattools import adfuller\n",
        "\n",
        "def adf_test(series, name):\n",
        "    stat, p, *_ = adfuller(series)\n",
        "    print(f'{name}: ADF stat={stat:.3f}, p={p:.3f}')\n",
        "    return p\n",
        "\n",
        "# Identify which base series need differencing\n",
        "base_cols = ['AIG', 'GDP', 'CPILFESL', 'UNRATE']\n",
        "pvals = {col: adf_test(df[col], col) for col in base_cols}\n",
        "\n",
        "# Decide differencing: p-value >= 0.05 indicates non-stationarity\n",
        "diff_needed = [col for col, p in pvals.items() if p >= 0.05]\n",
        "print('Differencing needed for:', diff_needed)"
      ],
      "metadata": {
        "colab": {
          "base_uri": "https://localhost:8080/"
        },
        "id": "WI4M5mxwPw3C",
        "outputId": "79fd308f-77d6-4123-bc87-392f90741977"
      },
      "execution_count": null,
      "outputs": [
        {
          "output_type": "stream",
          "name": "stdout",
          "text": [
            "AIG: ADF stat=-1.311, p=0.624\n",
            "GDP: ADF stat=0.950, p=0.994\n",
            "CPILFESL: ADF stat=2.086, p=0.999\n",
            "UNRATE: ADF stat=-2.901, p=0.045\n",
            "Differencing needed for: ['AIG', 'GDP', 'CPILFESL']\n"
          ]
        }
      ]
    },
    {
      "cell_type": "markdown",
      "source": [
        "#Applying differencing"
      ],
      "metadata": {
        "id": "5Oxt7LTSz4Oj"
      }
    },
    {
      "cell_type": "code",
      "source": [
        "# Apply first-order differencing only to non-stationary series\n",
        "diff_cols = []\n",
        "for col in base_cols:\n",
        "    if col in diff_needed:\n",
        "        df[f'{col}_diff'] = df[col] - df[col].shift(1)\n",
        "        diff_cols.append(f'{col}_diff')\n",
        "    else:\n",
        "        # Keep stationary series as-is (use original)\n",
        "        diff_cols.append(col)\n",
        "\n",
        "df.dropna(inplace=True)"
      ],
      "metadata": {
        "id": "galCD4jGPy1u"
      },
      "execution_count": null,
      "outputs": []
    },
    {
      "cell_type": "markdown",
      "source": [
        "#Scalling Using Standard Scaler"
      ],
      "metadata": {
        "id": "MMsQ3Il6z7VU"
      }
    },
    {
      "cell_type": "code",
      "source": [
        "from sklearn.preprocessing import StandardScaler\n",
        "scaler = StandardScaler()\n",
        "df_scaled = pd.DataFrame(scaler.fit_transform(df), index=df.index, columns=df.columns)"
      ],
      "metadata": {
        "id": "coXy4GBuQWmk"
      },
      "execution_count": null,
      "outputs": []
    },
    {
      "cell_type": "markdown",
      "source": [
        "#Checking Casuality"
      ],
      "metadata": {
        "id": "hDEjMpNX0AAO"
      }
    },
    {
      "cell_type": "code",
      "source": [
        "from statsmodels.tsa.stattools import grangercausalitytests\n",
        "\n",
        "print(\"\"\"\n",
        "--- Granger Causality Test Results ---\"\"\")\n",
        "for col in diff_cols:\n",
        "    if col != f'{\"AIG\"}_diff':\n",
        "        # print(f\"Does {col} Granger-cause {\"AIG\"}_diff?\")\n",
        "        grangercausalitytests(df[[f'{\"AIG\"}_diff', col]], maxlag=4, verbose=True)"
      ],
      "metadata": {
        "colab": {
          "base_uri": "https://localhost:8080/"
        },
        "id": "-h3zZgr0O6jB",
        "outputId": "f1219da6-ef69-468b-eb41-ce6c6132a4ef"
      },
      "execution_count": null,
      "outputs": [
        {
          "output_type": "stream",
          "name": "stdout",
          "text": [
            "\n",
            "--- Granger Causality Test Results ---\n",
            "\n",
            "Granger Causality\n",
            "number of lags (no zero) 1\n",
            "ssr based F test:         F=1.7627  , p=0.1934  , df_denom=33, df_num=1\n",
            "ssr based chi2 test:   chi2=1.9230  , p=0.1655  , df=1\n",
            "likelihood ratio test: chi2=1.8734  , p=0.1711  , df=1\n",
            "parameter F test:         F=1.7627  , p=0.1934  , df_denom=33, df_num=1\n",
            "\n",
            "Granger Causality\n",
            "number of lags (no zero) 2\n",
            "ssr based F test:         F=1.7263  , p=0.1952  , df_denom=30, df_num=2\n",
            "ssr based chi2 test:   chi2=4.0280  , p=0.1335  , df=2\n",
            "likelihood ratio test: chi2=3.8126  , p=0.1486  , df=2\n",
            "parameter F test:         F=1.7263  , p=0.1952  , df_denom=30, df_num=2\n",
            "\n",
            "Granger Causality\n",
            "number of lags (no zero) 3\n",
            "ssr based F test:         F=1.2195  , p=0.3217  , df_denom=27, df_num=3\n",
            "ssr based chi2 test:   chi2=4.6069  , p=0.2030  , df=3\n",
            "likelihood ratio test: chi2=4.3204  , p=0.2289  , df=3\n",
            "parameter F test:         F=1.2195  , p=0.3217  , df_denom=27, df_num=3\n",
            "\n",
            "Granger Causality\n",
            "number of lags (no zero) 4\n",
            "ssr based F test:         F=0.7064  , p=0.5954  , df_denom=24, df_num=4\n",
            "ssr based chi2 test:   chi2=3.8853  , p=0.4218  , df=4\n",
            "likelihood ratio test: chi2=3.6731  , p=0.4521  , df=4\n",
            "parameter F test:         F=0.7064  , p=0.5954  , df_denom=24, df_num=4\n",
            "\n",
            "Granger Causality\n",
            "number of lags (no zero) 1\n",
            "ssr based F test:         F=1.6335  , p=0.2101  , df_denom=33, df_num=1\n",
            "ssr based chi2 test:   chi2=1.7820  , p=0.1819  , df=1\n",
            "likelihood ratio test: chi2=1.7393  , p=0.1872  , df=1\n",
            "parameter F test:         F=1.6335  , p=0.2101  , df_denom=33, df_num=1\n",
            "\n",
            "Granger Causality\n",
            "number of lags (no zero) 2\n",
            "ssr based F test:         F=1.1736  , p=0.3231  , df_denom=30, df_num=2\n",
            "ssr based chi2 test:   chi2=2.7383  , p=0.2543  , df=2\n",
            "likelihood ratio test: chi2=2.6365  , p=0.2676  , df=2\n",
            "parameter F test:         F=1.1736  , p=0.3231  , df_denom=30, df_num=2\n",
            "\n",
            "Granger Causality\n",
            "number of lags (no zero) 3\n",
            "ssr based F test:         F=0.9597  , p=0.4259  , df_denom=27, df_num=3\n",
            "ssr based chi2 test:   chi2=3.6257  , p=0.3048  , df=3\n",
            "likelihood ratio test: chi2=3.4451  , p=0.3280  , df=3\n",
            "parameter F test:         F=0.9597  , p=0.4259  , df_denom=27, df_num=3\n",
            "\n",
            "Granger Causality\n",
            "number of lags (no zero) 4\n",
            "ssr based F test:         F=0.8019  , p=0.5359  , df_denom=24, df_num=4\n",
            "ssr based chi2 test:   chi2=4.4105  , p=0.3533  , df=4\n",
            "likelihood ratio test: chi2=4.1397  , p=0.3874  , df=4\n",
            "parameter F test:         F=0.8019  , p=0.5359  , df_denom=24, df_num=4\n",
            "\n",
            "Granger Causality\n",
            "number of lags (no zero) 1\n",
            "ssr based F test:         F=0.8517  , p=0.3628  , df_denom=33, df_num=1\n",
            "ssr based chi2 test:   chi2=0.9292  , p=0.3351  , df=1\n",
            "likelihood ratio test: chi2=0.9174  , p=0.3382  , df=1\n",
            "parameter F test:         F=0.8517  , p=0.3628  , df_denom=33, df_num=1\n",
            "\n",
            "Granger Causality\n",
            "number of lags (no zero) 2\n",
            "ssr based F test:         F=2.2085  , p=0.1274  , df_denom=30, df_num=2\n",
            "ssr based chi2 test:   chi2=5.1533  , p=0.0760  , df=2\n",
            "likelihood ratio test: chi2=4.8075  , p=0.0904  , df=2\n",
            "parameter F test:         F=2.2085  , p=0.1274  , df_denom=30, df_num=2\n",
            "\n",
            "Granger Causality\n",
            "number of lags (no zero) 3\n",
            "ssr based F test:         F=1.3529  , p=0.2782  , df_denom=27, df_num=3\n",
            "ssr based chi2 test:   chi2=5.1111  , p=0.1638  , df=3\n",
            "likelihood ratio test: chi2=4.7616  , p=0.1901  , df=3\n",
            "parameter F test:         F=1.3529  , p=0.2782  , df_denom=27, df_num=3\n",
            "\n",
            "Granger Causality\n",
            "number of lags (no zero) 4\n",
            "ssr based F test:         F=0.6169  , p=0.6547  , df_denom=24, df_num=4\n",
            "ssr based chi2 test:   chi2=3.3929  , p=0.4943  , df=4\n",
            "likelihood ratio test: chi2=3.2296  , p=0.5202  , df=4\n",
            "parameter F test:         F=0.6169  , p=0.6547  , df_denom=24, df_num=4\n"
          ]
        },
        {
          "output_type": "stream",
          "name": "stderr",
          "text": [
            "/usr/local/lib/python3.11/dist-packages/statsmodels/tsa/stattools.py:1556: FutureWarning: verbose is deprecated since functions should not print results\n",
            "  warnings.warn(\n",
            "/usr/local/lib/python3.11/dist-packages/statsmodels/tsa/stattools.py:1556: FutureWarning: verbose is deprecated since functions should not print results\n",
            "  warnings.warn(\n",
            "/usr/local/lib/python3.11/dist-packages/statsmodels/tsa/stattools.py:1556: FutureWarning: verbose is deprecated since functions should not print results\n",
            "  warnings.warn(\n"
          ]
        }
      ]
    },
    {
      "cell_type": "markdown",
      "source": [
        "**Explanation**\n",
        "\n",
        "Granger Causality doesn’t imply true causality, but rather tells us whether past values of one time series help predict another\n",
        "\n",
        "None of the tested macro indicators (GDP, CPI, UNRATE) Granger-cause AIG’s stock price at a statistically significant level (p < 0.05)"
      ],
      "metadata": {
        "id": "8a9UHSXX0s_A"
      }
    },
    {
      "cell_type": "markdown",
      "source": [
        "#Train test split"
      ],
      "metadata": {
        "id": "iFjsDSY501tn"
      }
    },
    {
      "cell_type": "code",
      "source": [
        "# Step 7: Train-Test Split & Cross-Validation\n",
        "# ================================\n",
        "from sklearn.model_selection import TimeSeriesSplit\n",
        "ticker = \"AIG\"\n",
        "# Step 7: Train-Test Split for VAR\n",
        "train = df_scaled.loc[:'2022-12-31']\n",
        "test = df_scaled.loc['2023-01-01':]\n",
        "\n",
        "# Use only the differenced (stationary) columns\n",
        "train_diff = train[diff_cols]\n",
        "test_diff = test[diff_cols]\n",
        "\n"
      ],
      "metadata": {
        "id": "po1VlRIKQeSf"
      },
      "execution_count": null,
      "outputs": []
    },
    {
      "cell_type": "markdown",
      "source": [
        "#Model Training [VAR]"
      ],
      "metadata": {
        "id": "5Ya_nZyL04pa"
      }
    },
    {
      "cell_type": "code",
      "source": [
        "from statsmodels.tsa.api import VAR\n",
        "# Fit VAR model\n",
        "model = VAR(endog=train_diff)\n",
        "\n",
        "# Select optimal lag order\n",
        "lag_order_results = model.select_order(maxlags=4)\n",
        "print(lag_order_results.summary())\n",
        "opt_lag = lag_order_results.aic\n",
        "print(\"Selected lag based on AIC:\", opt_lag)\n",
        "\n",
        "\n",
        "# Fit the model with optimal lag\n",
        "results = model.fit(opt_lag)\n",
        "\n",
        "# Forecast\n",
        "forecast = results.forecast(train_diff.values[-opt_lag:], steps=len(test_diff))\n",
        "forecast_df = pd.DataFrame(forecast, index=test_diff.index, columns=diff_cols)\n"
      ],
      "metadata": {
        "id": "4Nl1pI9iQuaU",
        "colab": {
          "base_uri": "https://localhost:8080/"
        },
        "outputId": "cef0f6d6-3e0c-4349-fcfd-887a5b98591d"
      },
      "execution_count": null,
      "outputs": [
        {
          "output_type": "stream",
          "name": "stdout",
          "text": [
            " VAR Order Selection (* highlights the minimums) \n",
            "=================================================\n",
            "      AIC         BIC         FPE         HQIC   \n",
            "-------------------------------------------------\n",
            "0      0.7005      0.8955       2.015      0.7545\n",
            "1      -3.614      -2.638     0.02755      -3.343\n",
            "2      -4.527      -2.772     0.01237      -4.041\n",
            "3      -5.602     -3.067*   0.005792*      -4.899\n",
            "4     -5.890*      -2.575    0.009117     -4.971*\n",
            "-------------------------------------------------\n",
            "Selected lag based on AIC: 4\n"
          ]
        }
      ]
    },
    {
      "cell_type": "code",
      "source": [
        "# lag = results.k_ar\n",
        "# forecast = results.forecast(train[diff_cols].values[-lag:], steps=len(test))\n",
        "# forecast_df = pd.DataFrame(forecast, index=test.index, columns=diff_cols)"
      ],
      "metadata": {
        "id": "39pFmq8ZQutn"
      },
      "execution_count": null,
      "outputs": []
    },
    {
      "cell_type": "code",
      "source": [
        "forecast_df"
      ],
      "metadata": {
        "colab": {
          "base_uri": "https://localhost:8080/",
          "height": 300
        },
        "collapsed": true,
        "id": "iT4RtzjiRQUs",
        "outputId": "8e4c723c-07e1-4d92-b1f0-a087c2507a1c"
      },
      "execution_count": null,
      "outputs": [
        {
          "output_type": "execute_result",
          "data": {
            "text/plain": [
              "            AIG_diff  GDP_diff  CPILFESL_diff    UNRATE\n",
              "2023-03-31 -1.944537  1.835633       2.285828 -2.073042\n",
              "2023-06-30  0.105112 -1.030189       0.552985 -1.183762\n",
              "2023-09-30 -0.685905  0.873217       1.090670 -1.598088\n",
              "2023-12-31 -1.214340 -0.504888       1.211717 -0.952064\n",
              "2024-03-31  0.547228  0.034643      -0.280343 -0.943777\n",
              "2024-06-30 -1.213736  1.014186       1.443448 -1.655000\n",
              "2024-09-30 -0.506274 -1.092932      -0.505760 -0.874059\n",
              "2024-12-31 -0.330800  0.231920       0.482767 -0.763152"
            ],
            "text/html": [
              "\n",
              "  <div id=\"df-54fc18ff-c112-41a9-862e-5f23284a63c6\" class=\"colab-df-container\">\n",
              "    <div>\n",
              "<style scoped>\n",
              "    .dataframe tbody tr th:only-of-type {\n",
              "        vertical-align: middle;\n",
              "    }\n",
              "\n",
              "    .dataframe tbody tr th {\n",
              "        vertical-align: top;\n",
              "    }\n",
              "\n",
              "    .dataframe thead th {\n",
              "        text-align: right;\n",
              "    }\n",
              "</style>\n",
              "<table border=\"1\" class=\"dataframe\">\n",
              "  <thead>\n",
              "    <tr style=\"text-align: right;\">\n",
              "      <th></th>\n",
              "      <th>AIG_diff</th>\n",
              "      <th>GDP_diff</th>\n",
              "      <th>CPILFESL_diff</th>\n",
              "      <th>UNRATE</th>\n",
              "    </tr>\n",
              "  </thead>\n",
              "  <tbody>\n",
              "    <tr>\n",
              "      <th>2023-03-31</th>\n",
              "      <td>-1.944537</td>\n",
              "      <td>1.835633</td>\n",
              "      <td>2.285828</td>\n",
              "      <td>-2.073042</td>\n",
              "    </tr>\n",
              "    <tr>\n",
              "      <th>2023-06-30</th>\n",
              "      <td>0.105112</td>\n",
              "      <td>-1.030189</td>\n",
              "      <td>0.552985</td>\n",
              "      <td>-1.183762</td>\n",
              "    </tr>\n",
              "    <tr>\n",
              "      <th>2023-09-30</th>\n",
              "      <td>-0.685905</td>\n",
              "      <td>0.873217</td>\n",
              "      <td>1.090670</td>\n",
              "      <td>-1.598088</td>\n",
              "    </tr>\n",
              "    <tr>\n",
              "      <th>2023-12-31</th>\n",
              "      <td>-1.214340</td>\n",
              "      <td>-0.504888</td>\n",
              "      <td>1.211717</td>\n",
              "      <td>-0.952064</td>\n",
              "    </tr>\n",
              "    <tr>\n",
              "      <th>2024-03-31</th>\n",
              "      <td>0.547228</td>\n",
              "      <td>0.034643</td>\n",
              "      <td>-0.280343</td>\n",
              "      <td>-0.943777</td>\n",
              "    </tr>\n",
              "    <tr>\n",
              "      <th>2024-06-30</th>\n",
              "      <td>-1.213736</td>\n",
              "      <td>1.014186</td>\n",
              "      <td>1.443448</td>\n",
              "      <td>-1.655000</td>\n",
              "    </tr>\n",
              "    <tr>\n",
              "      <th>2024-09-30</th>\n",
              "      <td>-0.506274</td>\n",
              "      <td>-1.092932</td>\n",
              "      <td>-0.505760</td>\n",
              "      <td>-0.874059</td>\n",
              "    </tr>\n",
              "    <tr>\n",
              "      <th>2024-12-31</th>\n",
              "      <td>-0.330800</td>\n",
              "      <td>0.231920</td>\n",
              "      <td>0.482767</td>\n",
              "      <td>-0.763152</td>\n",
              "    </tr>\n",
              "  </tbody>\n",
              "</table>\n",
              "</div>\n",
              "    <div class=\"colab-df-buttons\">\n",
              "\n",
              "  <div class=\"colab-df-container\">\n",
              "    <button class=\"colab-df-convert\" onclick=\"convertToInteractive('df-54fc18ff-c112-41a9-862e-5f23284a63c6')\"\n",
              "            title=\"Convert this dataframe to an interactive table.\"\n",
              "            style=\"display:none;\">\n",
              "\n",
              "  <svg xmlns=\"http://www.w3.org/2000/svg\" height=\"24px\" viewBox=\"0 -960 960 960\">\n",
              "    <path d=\"M120-120v-720h720v720H120Zm60-500h600v-160H180v160Zm220 220h160v-160H400v160Zm0 220h160v-160H400v160ZM180-400h160v-160H180v160Zm440 0h160v-160H620v160ZM180-180h160v-160H180v160Zm440 0h160v-160H620v160Z\"/>\n",
              "  </svg>\n",
              "    </button>\n",
              "\n",
              "  <style>\n",
              "    .colab-df-container {\n",
              "      display:flex;\n",
              "      gap: 12px;\n",
              "    }\n",
              "\n",
              "    .colab-df-convert {\n",
              "      background-color: #E8F0FE;\n",
              "      border: none;\n",
              "      border-radius: 50%;\n",
              "      cursor: pointer;\n",
              "      display: none;\n",
              "      fill: #1967D2;\n",
              "      height: 32px;\n",
              "      padding: 0 0 0 0;\n",
              "      width: 32px;\n",
              "    }\n",
              "\n",
              "    .colab-df-convert:hover {\n",
              "      background-color: #E2EBFA;\n",
              "      box-shadow: 0px 1px 2px rgba(60, 64, 67, 0.3), 0px 1px 3px 1px rgba(60, 64, 67, 0.15);\n",
              "      fill: #174EA6;\n",
              "    }\n",
              "\n",
              "    .colab-df-buttons div {\n",
              "      margin-bottom: 4px;\n",
              "    }\n",
              "\n",
              "    [theme=dark] .colab-df-convert {\n",
              "      background-color: #3B4455;\n",
              "      fill: #D2E3FC;\n",
              "    }\n",
              "\n",
              "    [theme=dark] .colab-df-convert:hover {\n",
              "      background-color: #434B5C;\n",
              "      box-shadow: 0px 1px 3px 1px rgba(0, 0, 0, 0.15);\n",
              "      filter: drop-shadow(0px 1px 2px rgba(0, 0, 0, 0.3));\n",
              "      fill: #FFFFFF;\n",
              "    }\n",
              "  </style>\n",
              "\n",
              "    <script>\n",
              "      const buttonEl =\n",
              "        document.querySelector('#df-54fc18ff-c112-41a9-862e-5f23284a63c6 button.colab-df-convert');\n",
              "      buttonEl.style.display =\n",
              "        google.colab.kernel.accessAllowed ? 'block' : 'none';\n",
              "\n",
              "      async function convertToInteractive(key) {\n",
              "        const element = document.querySelector('#df-54fc18ff-c112-41a9-862e-5f23284a63c6');\n",
              "        const dataTable =\n",
              "          await google.colab.kernel.invokeFunction('convertToInteractive',\n",
              "                                                    [key], {});\n",
              "        if (!dataTable) return;\n",
              "\n",
              "        const docLinkHtml = 'Like what you see? Visit the ' +\n",
              "          '<a target=\"_blank\" href=https://colab.research.google.com/notebooks/data_table.ipynb>data table notebook</a>'\n",
              "          + ' to learn more about interactive tables.';\n",
              "        element.innerHTML = '';\n",
              "        dataTable['output_type'] = 'display_data';\n",
              "        await google.colab.output.renderOutput(dataTable, element);\n",
              "        const docLink = document.createElement('div');\n",
              "        docLink.innerHTML = docLinkHtml;\n",
              "        element.appendChild(docLink);\n",
              "      }\n",
              "    </script>\n",
              "  </div>\n",
              "\n",
              "\n",
              "    <div id=\"df-27f71e8e-7449-4784-aa66-f449bf369994\">\n",
              "      <button class=\"colab-df-quickchart\" onclick=\"quickchart('df-27f71e8e-7449-4784-aa66-f449bf369994')\"\n",
              "                title=\"Suggest charts\"\n",
              "                style=\"display:none;\">\n",
              "\n",
              "<svg xmlns=\"http://www.w3.org/2000/svg\" height=\"24px\"viewBox=\"0 0 24 24\"\n",
              "     width=\"24px\">\n",
              "    <g>\n",
              "        <path d=\"M19 3H5c-1.1 0-2 .9-2 2v14c0 1.1.9 2 2 2h14c1.1 0 2-.9 2-2V5c0-1.1-.9-2-2-2zM9 17H7v-7h2v7zm4 0h-2V7h2v10zm4 0h-2v-4h2v4z\"/>\n",
              "    </g>\n",
              "</svg>\n",
              "      </button>\n",
              "\n",
              "<style>\n",
              "  .colab-df-quickchart {\n",
              "      --bg-color: #E8F0FE;\n",
              "      --fill-color: #1967D2;\n",
              "      --hover-bg-color: #E2EBFA;\n",
              "      --hover-fill-color: #174EA6;\n",
              "      --disabled-fill-color: #AAA;\n",
              "      --disabled-bg-color: #DDD;\n",
              "  }\n",
              "\n",
              "  [theme=dark] .colab-df-quickchart {\n",
              "      --bg-color: #3B4455;\n",
              "      --fill-color: #D2E3FC;\n",
              "      --hover-bg-color: #434B5C;\n",
              "      --hover-fill-color: #FFFFFF;\n",
              "      --disabled-bg-color: #3B4455;\n",
              "      --disabled-fill-color: #666;\n",
              "  }\n",
              "\n",
              "  .colab-df-quickchart {\n",
              "    background-color: var(--bg-color);\n",
              "    border: none;\n",
              "    border-radius: 50%;\n",
              "    cursor: pointer;\n",
              "    display: none;\n",
              "    fill: var(--fill-color);\n",
              "    height: 32px;\n",
              "    padding: 0;\n",
              "    width: 32px;\n",
              "  }\n",
              "\n",
              "  .colab-df-quickchart:hover {\n",
              "    background-color: var(--hover-bg-color);\n",
              "    box-shadow: 0 1px 2px rgba(60, 64, 67, 0.3), 0 1px 3px 1px rgba(60, 64, 67, 0.15);\n",
              "    fill: var(--button-hover-fill-color);\n",
              "  }\n",
              "\n",
              "  .colab-df-quickchart-complete:disabled,\n",
              "  .colab-df-quickchart-complete:disabled:hover {\n",
              "    background-color: var(--disabled-bg-color);\n",
              "    fill: var(--disabled-fill-color);\n",
              "    box-shadow: none;\n",
              "  }\n",
              "\n",
              "  .colab-df-spinner {\n",
              "    border: 2px solid var(--fill-color);\n",
              "    border-color: transparent;\n",
              "    border-bottom-color: var(--fill-color);\n",
              "    animation:\n",
              "      spin 1s steps(1) infinite;\n",
              "  }\n",
              "\n",
              "  @keyframes spin {\n",
              "    0% {\n",
              "      border-color: transparent;\n",
              "      border-bottom-color: var(--fill-color);\n",
              "      border-left-color: var(--fill-color);\n",
              "    }\n",
              "    20% {\n",
              "      border-color: transparent;\n",
              "      border-left-color: var(--fill-color);\n",
              "      border-top-color: var(--fill-color);\n",
              "    }\n",
              "    30% {\n",
              "      border-color: transparent;\n",
              "      border-left-color: var(--fill-color);\n",
              "      border-top-color: var(--fill-color);\n",
              "      border-right-color: var(--fill-color);\n",
              "    }\n",
              "    40% {\n",
              "      border-color: transparent;\n",
              "      border-right-color: var(--fill-color);\n",
              "      border-top-color: var(--fill-color);\n",
              "    }\n",
              "    60% {\n",
              "      border-color: transparent;\n",
              "      border-right-color: var(--fill-color);\n",
              "    }\n",
              "    80% {\n",
              "      border-color: transparent;\n",
              "      border-right-color: var(--fill-color);\n",
              "      border-bottom-color: var(--fill-color);\n",
              "    }\n",
              "    90% {\n",
              "      border-color: transparent;\n",
              "      border-bottom-color: var(--fill-color);\n",
              "    }\n",
              "  }\n",
              "</style>\n",
              "\n",
              "      <script>\n",
              "        async function quickchart(key) {\n",
              "          const quickchartButtonEl =\n",
              "            document.querySelector('#' + key + ' button');\n",
              "          quickchartButtonEl.disabled = true;  // To prevent multiple clicks.\n",
              "          quickchartButtonEl.classList.add('colab-df-spinner');\n",
              "          try {\n",
              "            const charts = await google.colab.kernel.invokeFunction(\n",
              "                'suggestCharts', [key], {});\n",
              "          } catch (error) {\n",
              "            console.error('Error during call to suggestCharts:', error);\n",
              "          }\n",
              "          quickchartButtonEl.classList.remove('colab-df-spinner');\n",
              "          quickchartButtonEl.classList.add('colab-df-quickchart-complete');\n",
              "        }\n",
              "        (() => {\n",
              "          let quickchartButtonEl =\n",
              "            document.querySelector('#df-27f71e8e-7449-4784-aa66-f449bf369994 button');\n",
              "          quickchartButtonEl.style.display =\n",
              "            google.colab.kernel.accessAllowed ? 'block' : 'none';\n",
              "        })();\n",
              "      </script>\n",
              "    </div>\n",
              "\n",
              "  <div id=\"id_5f560f19-e621-421d-a8ce-3bd3d1eabe9d\">\n",
              "    <style>\n",
              "      .colab-df-generate {\n",
              "        background-color: #E8F0FE;\n",
              "        border: none;\n",
              "        border-radius: 50%;\n",
              "        cursor: pointer;\n",
              "        display: none;\n",
              "        fill: #1967D2;\n",
              "        height: 32px;\n",
              "        padding: 0 0 0 0;\n",
              "        width: 32px;\n",
              "      }\n",
              "\n",
              "      .colab-df-generate:hover {\n",
              "        background-color: #E2EBFA;\n",
              "        box-shadow: 0px 1px 2px rgba(60, 64, 67, 0.3), 0px 1px 3px 1px rgba(60, 64, 67, 0.15);\n",
              "        fill: #174EA6;\n",
              "      }\n",
              "\n",
              "      [theme=dark] .colab-df-generate {\n",
              "        background-color: #3B4455;\n",
              "        fill: #D2E3FC;\n",
              "      }\n",
              "\n",
              "      [theme=dark] .colab-df-generate:hover {\n",
              "        background-color: #434B5C;\n",
              "        box-shadow: 0px 1px 3px 1px rgba(0, 0, 0, 0.15);\n",
              "        filter: drop-shadow(0px 1px 2px rgba(0, 0, 0, 0.3));\n",
              "        fill: #FFFFFF;\n",
              "      }\n",
              "    </style>\n",
              "    <button class=\"colab-df-generate\" onclick=\"generateWithVariable('forecast_df')\"\n",
              "            title=\"Generate code using this dataframe.\"\n",
              "            style=\"display:none;\">\n",
              "\n",
              "  <svg xmlns=\"http://www.w3.org/2000/svg\" height=\"24px\"viewBox=\"0 0 24 24\"\n",
              "       width=\"24px\">\n",
              "    <path d=\"M7,19H8.4L18.45,9,17,7.55,7,17.6ZM5,21V16.75L18.45,3.32a2,2,0,0,1,2.83,0l1.4,1.43a1.91,1.91,0,0,1,.58,1.4,1.91,1.91,0,0,1-.58,1.4L9.25,21ZM18.45,9,17,7.55Zm-12,3A5.31,5.31,0,0,0,4.9,8.1,5.31,5.31,0,0,0,1,6.5,5.31,5.31,0,0,0,4.9,4.9,5.31,5.31,0,0,0,6.5,1,5.31,5.31,0,0,0,8.1,4.9,5.31,5.31,0,0,0,12,6.5,5.46,5.46,0,0,0,6.5,12Z\"/>\n",
              "  </svg>\n",
              "    </button>\n",
              "    <script>\n",
              "      (() => {\n",
              "      const buttonEl =\n",
              "        document.querySelector('#id_5f560f19-e621-421d-a8ce-3bd3d1eabe9d button.colab-df-generate');\n",
              "      buttonEl.style.display =\n",
              "        google.colab.kernel.accessAllowed ? 'block' : 'none';\n",
              "\n",
              "      buttonEl.onclick = () => {\n",
              "        google.colab.notebook.generateWithVariable('forecast_df');\n",
              "      }\n",
              "      })();\n",
              "    </script>\n",
              "  </div>\n",
              "\n",
              "    </div>\n",
              "  </div>\n"
            ],
            "application/vnd.google.colaboratory.intrinsic+json": {
              "type": "dataframe",
              "variable_name": "forecast_df",
              "summary": "{\n  \"name\": \"forecast_df\",\n  \"rows\": 8,\n  \"fields\": [\n    {\n      \"column\": \"AIG_diff\",\n      \"properties\": {\n        \"dtype\": \"number\",\n        \"std\": 0.7963536912128677,\n        \"min\": -1.944537421300318,\n        \"max\": 0.5472278707228639,\n        \"num_unique_values\": 8,\n        \"samples\": [\n          0.10511195351624125,\n          -1.2137355848463223,\n          -1.944537421300318\n        ],\n        \"semantic_type\": \"\",\n        \"description\": \"\"\n      }\n    },\n    {\n      \"column\": \"GDP_diff\",\n      \"properties\": {\n        \"dtype\": \"number\",\n        \"std\": 1.0347240697277702,\n        \"min\": -1.092932054403522,\n        \"max\": 1.8356332246514167,\n        \"num_unique_values\": 8,\n        \"samples\": [\n          -1.0301885228957062,\n          1.0141855588726085,\n          1.8356332246514167\n        ],\n        \"semantic_type\": \"\",\n        \"description\": \"\"\n      }\n    },\n    {\n      \"column\": \"CPILFESL_diff\",\n      \"properties\": {\n        \"dtype\": \"number\",\n        \"std\": 0.9186756404738565,\n        \"min\": -0.5057604967129858,\n        \"max\": 2.2858284153847803,\n        \"num_unique_values\": 8,\n        \"samples\": [\n          0.5529851043886886,\n          1.4434477560676136,\n          2.2858284153847803\n        ],\n        \"semantic_type\": \"\",\n        \"description\": \"\"\n      }\n    },\n    {\n      \"column\": \"UNRATE\",\n      \"properties\": {\n        \"dtype\": \"number\",\n        \"std\": 0.46715486138967355,\n        \"min\": -2.073041520700105,\n        \"max\": -0.7631524698767125,\n        \"num_unique_values\": 8,\n        \"samples\": [\n          -1.1837623524151777,\n          -1.6549997200067834,\n          -2.073041520700105\n        ],\n        \"semantic_type\": \"\",\n        \"description\": \"\"\n      }\n    }\n  ]\n}"
            }
          },
          "metadata": {},
          "execution_count": 112
        }
      ]
    },
    {
      "cell_type": "code",
      "source": [
        "actual_df = df_scaled[[\"AIG_diff\", \"GDP_diff\",\"CPILFESL_diff\", \"UNRATE\"]]"
      ],
      "metadata": {
        "id": "K3bVxnNoRYMV"
      },
      "execution_count": null,
      "outputs": []
    },
    {
      "cell_type": "code",
      "source": [
        "import matplotlib.pyplot as plt\n",
        "\n",
        "# Plot each column\n",
        "\n",
        "plt.figure(figsize=(12, 5))\n",
        "plt.plot(actual_df.index, actual_df[\"AIG_diff\"], label='Actual', color='blue')\n",
        "plt.plot(forecast_df.index, forecast_df[\"AIG_diff\"], label='Forecast', color='orange', linestyle='--')\n",
        "plt.title(f'Actual vs Forecast for AIG_diff')\n",
        "plt.xlabel('Date')\n",
        "plt.ylabel(\"AIG_diff\")\n",
        "plt.legend()\n",
        "plt.grid(True)\n",
        "plt.tight_layout()\n",
        "plt.show()\n"
      ],
      "metadata": {
        "colab": {
          "base_uri": "https://localhost:8080/",
          "height": 507
        },
        "id": "tEKTxxBPTSH-",
        "outputId": "efa97d88-8438-4e29-b58b-d4306ca40525"
      },
      "execution_count": null,
      "outputs": [
        {
          "output_type": "display_data",
          "data": {
            "text/plain": [
              "<Figure size 1200x500 with 1 Axes>"
            ],
            "image/png": "[encoded data removed]"
          },
          "metadata": {}
        }
      ]
    },
    {
      "cell_type": "code",
      "source": [
        "from sklearn.metrics import mean_absolute_error, mean_squared_error\n",
        "# print('MAE:', mean_absolute_error(actual_df[\"AIG_diff\"].iloc[-8:], forecast_df[\"AIG_diff\"]))\n",
        "aligned_actual = actual_df[\"AIG_diff\"].loc[forecast_df.index]\n",
        "print('MAE:', mean_absolute_error(aligned_actual, forecast_df[\"AIG_diff\"]))\n"
      ],
      "metadata": {
        "colab": {
          "base_uri": "https://localhost:8080/"
        },
        "id": "QpNwJcylWnMl",
        "outputId": "0b0475ac-8a82-4efa-8283-4281e3c60105"
      },
      "execution_count": null,
      "outputs": [
        {
          "output_type": "stream",
          "name": "stdout",
          "text": [
            "MAE: 0.7644475236904735\n"
          ]
        }
      ]
    },
    {
      "cell_type": "markdown",
      "source": [
        "#Using XG-Boost"
      ],
      "metadata": {
        "id": "r2_OCebN1Ykr"
      }
    },
    {
      "cell_type": "code",
      "source": [
        "#Benchmarking with XGBoost\n",
        "\n",
        "ticker = \"AIG\"\n",
        "from xgboost import XGBRegressor\n",
        "from lightgbm import LGBMRegressor\n",
        "from sklearn.model_selection import TimeSeriesSplit\n",
        "\n",
        "# Use lag/rolling features as predictors\n",
        "X_cols = [col for col in df.columns if '_lag' in col or '_roll' in col]\n",
        "y_col = f'{ticker}_diff'\n",
        "\n",
        "X_train = train[X_cols]\n",
        "y_train = train[y_col]\n",
        "X_test = test[X_cols]\n",
        "y_test = test[y_col]\n",
        "\n",
        "\n"
      ],
      "metadata": {
        "id": "PM5OdkQgRB_J"
      },
      "execution_count": null,
      "outputs": []
    },
    {
      "cell_type": "code",
      "source": [
        "# Evaluating Metrics\n",
        "\n",
        "\n",
        "from sklearn.model_selection import TimeSeriesSplit\n",
        "from sklearn.metrics import mean_squared_error, mean_absolute_error\n",
        "from xgboost import XGBRegressor\n",
        "import numpy as np\n",
        "\n",
        "tscv = TimeSeriesSplit(n_splits=3)\n",
        "model = XGBRegressor()\n",
        "\n",
        "fold_rmse = []\n",
        "y_true_all = []\n",
        "y_pred_all = []\n",
        "\n",
        "for train_idx, val_idx in tscv.split(X_train):\n",
        "    X_t, X_v = X_train.iloc[train_idx], X_train.iloc[val_idx]\n",
        "    y_t, y_v = y_train.iloc[train_idx], y_train.iloc[val_idx]\n",
        "\n",
        "    model.fit(X_t, y_t)\n",
        "    preds = model.predict(X_v)\n",
        "\n",
        "    fold_rmse.append(np.sqrt(mean_squared_error(y_v, preds)))\n",
        "    y_true_all.extend(y_v)\n",
        "    y_pred_all.extend(preds)\n",
        "\n",
        "print('--- XGBoost (Raw % Change) ---')\n",
        "print('Average Fold RMSE:', np.mean(fold_rmse))\n",
        "print('Overall MAE:', mean_absolute_error(y_true_all, y_pred_all))\n",
        "print('Overall RMSE:', np.sqrt(mean_squared_error(y_true_all, y_pred_all)))\n"
      ],
      "metadata": {
        "colab": {
          "base_uri": "https://localhost:8080/"
        },
        "id": "gwTleoBybdr6",
        "outputId": "1ed1696d-5f60-4580-9377-40e9ca458cf4"
      },
      "execution_count": null,
      "outputs": [
        {
          "output_type": "stream",
          "name": "stdout",
          "text": [
            "--- XGBoost (Raw % Change) ---\n",
            "Average Fold RMSE: 0.9045371164614275\n",
            "Overall MAE: 0.6345718363868207\n",
            "Overall RMSE: 0.922077769815283\n"
          ]
        }
      ]
    },
    {
      "cell_type": "code",
      "source": [
        "import matplotlib.pyplot as plt\n",
        "\n",
        "plt.figure(figsize=(8,4))\n",
        "plt.plot(y_true_all, label='Actual')\n",
        "plt.plot(y_pred_all, label='XGBoost Prediction')\n",
        "plt.legend(); plt.title('Cross-Validated Raw % Change'); plt.show()\n"
      ],
      "metadata": {
        "colab": {
          "base_uri": "https://localhost:8080/",
          "height": 391
        },
        "id": "MhUFi5vqp4RI",
        "outputId": "1706324c-1616-42f5-f124-9f2edd246323"
      },
      "execution_count": null,
      "outputs": [
        {
          "output_type": "display_data",
          "data": {
            "text/plain": [
              "<Figure size 800x400 with 1 Axes>"
            ],
            "image/png": "[encoded data removed]"
          },
          "metadata": {}
        }
      ]
    },
    {
      "cell_type": "markdown",
      "source": [
        "#Hyper Parameter tuning"
      ],
      "metadata": {
        "id": "ZuF5nNEO14Ss"
      }
    },
    {
      "cell_type": "code",
      "source": [
        "from sklearn.model_selection import GridSearchCV, TimeSeriesSplit\n",
        "from xgboost import XGBRegressor\n",
        "import numpy as np\n",
        "\n",
        "#  model\n",
        "xgb = XGBRegressor(objective='reg:squarederror', random_state=42)\n",
        "\n",
        "#parameter grid\n",
        "param_grid = {\n",
        "    'n_estimators': [50, 100, 200],\n",
        "    'max_depth': [2, 3, 4],\n",
        "    'learning_rate': [0.01, 0.05, 0.1],\n",
        "    'subsample': [0.8, 1.0],\n",
        "    'colsample_bytree': [0.8, 1.0]\n",
        "}\n",
        "\n",
        "# TimeSeriesSplit\n",
        "tscv = TimeSeriesSplit(n_splits=3)\n",
        "\n",
        "#Set up GridSearchCV\n",
        "grid_search = GridSearchCV(\n",
        "    estimator=xgb,\n",
        "    param_grid=param_grid,\n",
        "    cv=tscv,\n",
        "    scoring='neg_root_mean_squared_error',\n",
        "    verbose=1,\n",
        "    n_jobs=-1\n",
        ")\n",
        "\n",
        "\n",
        "grid_search.fit(X_train, y_train)\n",
        "\n",
        "# Parameters\n",
        "print(\"Best Parameters:\", grid_search.best_params_)\n",
        "print(\"Best RMSE:\", -grid_search.best_score_)\n",
        "\n",
        "# best model\n",
        "best_model = grid_search.best_estimator_\n",
        "y_pred_best = best_model.predict(X_test)\n",
        "\n",
        "#Evaluate on test set\n",
        "from sklearn.metrics import mean_squared_error, mean_absolute_error\n",
        "\n",
        "print(\"Test MAE:\", mean_absolute_error(y_test, y_pred_best))\n",
        "print(\"Test RMSE:\", np.sqrt(mean_squared_error(y_test, y_pred_best)))\n"
      ],
      "metadata": {
        "colab": {
          "base_uri": "https://localhost:8080/"
        },
        "id": "_GRn-sobanyk",
        "outputId": "b99b259c-2b26-4321-c2bb-e35bdb4a4db3"
      },
      "execution_count": null,
      "outputs": [
        {
          "output_type": "stream",
          "name": "stdout",
          "text": [
            "Fitting 3 folds for each of 108 candidates, totalling 324 fits\n",
            "Best Parameters: {'colsample_bytree': 1.0, 'learning_rate': 0.05, 'max_depth': 4, 'n_estimators': 200, 'subsample': 1.0}\n",
            "Best RMSE: 0.8194041605855737\n",
            "Test MAE: 0.8803066680851019\n",
            "Test RMSE: 0.9659637757684871\n"
          ]
        }
      ]
    },
    {
      "cell_type": "code",
      "source": [
        "plt.figure(figsize=(8,4))\n",
        "plt.plot(y_test.values, label='Actual')\n",
        "plt.plot(y_pred_best, label='Tuned XGBoost Prediction')\n",
        "plt.title('Tuned XGBoost: Prediction vs Actual (% Change)')\n",
        "plt.legend(); plt.show()\n"
      ],
      "metadata": {
        "colab": {
          "base_uri": "https://localhost:8080/",
          "height": 391
        },
        "id": "334mhKjtqKVd",
        "outputId": "7dc381c6-3e2b-46d2-bd09-9d3146155b5a"
      },
      "execution_count": null,
      "outputs": [
        {
          "output_type": "display_data",
          "data": {
            "text/plain": [
              "<Figure size 800x400 with 1 Axes>"
            ],
            "image/png": "[encoded data removed]"
          },
          "metadata": {}
        }
      ]
    },
    {
      "cell_type": "markdown",
      "source": [
        "**Metric Evaluation**\n",
        "\n",
        "Cross-validated RMSE improved after tuning, which indicates better generalization during training.\n",
        "\n",
        "However, test MAE and RMSE increased slightly, which may suggest mild overfitting or underfitting in the final test fold.\n",
        "\n",
        "Overall, the tuned model performs more consistently across folds, even if slightly less accurate on final unseen data."
      ],
      "metadata": {
        "id": "m1bHBwZO3C4_"
      }
    },
    {
      "cell_type": "markdown",
      "source": [
        "#Checking Feature Importance"
      ],
      "metadata": {
        "id": "xF5BFLl22VkF"
      }
    },
    {
      "cell_type": "code",
      "source": [
        "from xgboost import plot_importance\n",
        "import matplotlib.pyplot as plt\n",
        "\n",
        "\n",
        "_ = plot_importance(best_model.best_estimator_ if hasattr(best_model, 'best_estimator_') else best_model)\n",
        "plt.title(\"Feature Importance - XGBoost\")\n",
        "plt.show()"
      ],
      "metadata": {
        "colab": {
          "base_uri": "https://localhost:8080/",
          "height": 472
        },
        "id": "Axo1Lcwoqb4E",
        "outputId": "b6506633-4734-4204-ae37-e6b0f210730f"
      },
      "execution_count": null,
      "outputs": [
        {
          "output_type": "display_data",
          "data": {
            "text/plain": [
              "<Figure size 640x480 with 1 Axes>"
            ],
            "image/png": "[encoded data removed]"
          },
          "metadata": {}
        }
      ]
    },
    {
      "cell_type": "markdown",
      "source": [
        "**Explanation**\n",
        "\n",
        "Lag features dominate the model is learning from recent historical values more than smoothed ones.\n",
        "\n",
        "Macroeconomic indicators (GDP, Unemployment) provide contextual strength, but stock-specific lags matter more.\n",
        "\n",
        "CPI seems least important in the current window, possibly due to its indirect link to short-term stock movements."
      ],
      "metadata": {
        "id": "9st6OBsz3aaS"
      }
    },
    {
      "cell_type": "code",
      "source": [],
      "metadata": {
        "id": "8_SpxnyC3cNd"
      },
      "execution_count": null,
      "outputs": []
    }
  ]
}