{
 "cells": [
  {
   "cell_type": "code",
   "execution_count": 1,
   "id": "0ca6c247",
   "metadata": {},
   "outputs": [],
   "source": [
    "# Check time stamps\n",
    "# Inspect data and visualize the time stamps of the data\n",
    "\n",
    "import numpy as np\n",
    "import pandas as pd\n",
    "import matplotlib.pyplot as plt"
   ]
  },
  {
   "cell_type": "code",
   "execution_count": 2,
   "id": "785f5053",
   "metadata": {},
   "outputs": [],
   "source": [
    "import pandas as pd\n",
    "\n",
    "tdf = pd.read_csv('data/Electric_Production.csv', parse_dates=[\"DATE\"], index_col=\"DATE\")"
   ]
  },
  {
   "cell_type": "code",
   "execution_count": null,
   "id": "a68dcd4c",
   "metadata": {},
   "outputs": [],
   "source": [
    "print(tdf.head())"
   ]
  },
  {
   "cell_type": "code",
   "execution_count": null,
   "id": "48800a7d",
   "metadata": {},
   "outputs": [],
   "source": [
    "# checking for missing values\n",
    "tdf.isnull().sum()"
   ]
  },
  {
   "cell_type": "code",
   "execution_count": null,
   "id": "1b7ce1f2",
   "metadata": {},
   "outputs": [],
   "source": [
    "# plotting the TSD\n",
    "plt.figure(figsize=(12, 6))\n",
    "plt.plot(tdf.index, tdf[\"IPG2211A2N\"], label=\"Electric Production\", color=\"blue\")\n",
    "plt.title(\"Electric Production Time Series Data\")\n",
    "plt.xlabel(\"Date\")\n",
    "plt.ylabel(\"Electric Production\")\n",
    "plt.grid(True)\n",
    "plt.legend()\n",
    "plt.show()"
   ]
  },
  {
   "cell_type": "code",
   "execution_count": null,
   "id": "344ddc54",
   "metadata": {},
   "outputs": [],
   "source": [
    "tdf.index.duplicated().sum()  # check for duplicate timestamps"
   ]
  },
  {
   "cell_type": "code",
   "execution_count": null,
   "id": "1f8e82e9",
   "metadata": {},
   "outputs": [],
   "source": [
    "# EDA\n",
    "from statsmodels.tsa.seasonal import seasonal_decompose\n",
    "\n",
    "# Decompose the time series data\n",
    "result = seasonal_decompose(tdf[\"IPG2211A2N\"], model='additive', period=12)\n",
    "\n",
    "\n",
    "\n",
    "# Plot decomposition\n",
    "result.plot()\n",
    "plt.show() "
   ]
  },
  {
   "cell_type": "code",
   "execution_count": null,
   "id": "75d77617",
   "metadata": {},
   "outputs": [],
   "source": [
    "from statsmodels.tsa.seasonal import seasonal_decompose\n",
    "\n",
    "\n",
    "# Decompose \n",
    "result = seasonal_decompose(tdf[\"IPG2211A2N\"], model='additive', period=12)\n",
    "residual = result.resid\n",
    "\n",
    "# Plot residuals\n",
    "residual.plot(figsize=(10, 6))\n",
    "plt.title(\"residuals After Decomposition\")\n",
    "plt.show()\n",
    "\n",
    "\n",
    "# Detect large residuals\n",
    "outliers = residual[np.abs(residual) > 3 * residual.std()]\n",
    "print(outliers)"
   ]
  },
  {
   "cell_type": "code",
   "execution_count": null,
   "id": "fc4dcade",
   "metadata": {},
   "outputs": [],
   "source": [
    "# checking if the data is stationary\n",
    "from statsmodels.tsa.stattools import adfuller, kpss\n",
    "\n",
    "result_adfuller = adfuller(tdf[\"IPG2211A2N\"])\n",
    "print(\"ADF Statistic:\", result_adfuller[0])\n",
    "print(\"p-value:\", result_adfuller[1])\n"
   ]
  },
  {
   "cell_type": "code",
   "execution_count": null,
   "id": "5ad98c05",
   "metadata": {},
   "outputs": [],
   "source": [
    "result_kpss = kpss(tdf[\"IPG2211A2N\"])\n",
    "print(\"KPSS Statistic:\", result_kpss[0])\n",
    "print(\"p-value:\", result_kpss[1])"
   ]
  },
  {
   "cell_type": "markdown",
   "id": "60520e89",
   "metadata": {},
   "source": [
    "## Converting the non-stationary data to stationary"
   ]
  },
  {
   "cell_type": "code",
   "execution_count": null,
   "id": "585deab4",
   "metadata": {},
   "outputs": [],
   "source": [
    "tdf.head()"
   ]
  },
  {
   "cell_type": "code",
   "execution_count": null,
   "id": "3ba4b66c",
   "metadata": {},
   "outputs": [],
   "source": [
    "# subtracting the current value from the previous value\n",
    "from statsmodels.graphics.tsaplots import plot_acf, plot_pacf\n",
    "plot_acf(tdf[\"IPG2211A2N\"], lags=50)"
   ]
  },
  {
   "cell_type": "code",
   "execution_count": null,
   "id": "60845b7c",
   "metadata": {},
   "outputs": [],
   "source": [
    "# checking for variance\n",
    "rolling_std = tdf[\"IPG2211A2N\"].rolling(window=12).std()\n",
    "plt.plot(tdf[\"IPG2211A2N\"], label='Original')\n",
    "plt.plot(rolling_std, label='Rolling Std', color='red')\n",
    "plt.legend()\n",
    "plt.title(\"Rolling Standard Deviation\")\n",
    "plt.show()\n"
   ]
  },
  {
   "cell_type": "code",
   "execution_count": null,
   "id": "1a64b1c9",
   "metadata": {},
   "outputs": [],
   "source": [
    "# ARCH test\n",
    "from statsmodels.stats.diagnostic import het_arch\n",
    "arch_test = het_arch(tdf[\"IPG2211A2N\"].dropna())\n",
    "print(\"P-value: \", arch_test[1])"
   ]
  },
  {
   "cell_type": "code",
   "execution_count": 15,
   "id": "7bacb909",
   "metadata": {},
   "outputs": [],
   "source": [
    "tdf_complement = tdf.copy()"
   ]
  },
  {
   "cell_type": "code",
   "execution_count": 16,
   "id": "99cff14c",
   "metadata": {},
   "outputs": [],
   "source": [
    "tdf_complement[\"IPG2211A2N\"] = np.log(tdf_complement[\"IPG2211A2N\"])"
   ]
  },
  {
   "cell_type": "code",
   "execution_count": null,
   "id": "430284c5",
   "metadata": {},
   "outputs": [],
   "source": [
    "rolling_std = tdf_complement[\"IPG2211A2N\"].rolling(window=12).std()\n",
    "plt.plot(tdf_complement[\"IPG2211A2N\"], label='Original')\n",
    "plt.plot(rolling_std, label='Rolling Std', color='red')\n",
    "plt.legend()\n",
    "plt.title(\"Rolling Standard Deviation\")\n",
    "plt.show()"
   ]
  },
  {
   "cell_type": "code",
   "execution_count": null,
   "id": "da336dfc",
   "metadata": {},
   "outputs": [],
   "source": [
    "arch_test = het_arch(tdf_complement[\"IPG2211A2N\"].dropna())\n",
    "print(\"P-value: \", arch_test[1])"
   ]
  },
  {
   "cell_type": "code",
   "execution_count": 19,
   "id": "fd7547ea",
   "metadata": {},
   "outputs": [],
   "source": [
    "from scipy import stats\n",
    "tdf_complement[\"boxcox\"], fitted_lambda = stats.boxcox(tdf_complement[\"IPG2211A2N\"])"
   ]
  },
  {
   "cell_type": "code",
   "execution_count": null,
   "id": "7756df6a",
   "metadata": {},
   "outputs": [],
   "source": [
    "arch_test = het_arch(tdf_complement[\"boxcox\"].dropna())\n",
    "print(\"P-value: \", arch_test[1])"
   ]
  },
  {
   "cell_type": "code",
   "execution_count": null,
   "id": "83a63f7a",
   "metadata": {},
   "outputs": [],
   "source": [
    "tdf_complement.head()"
   ]
  },
  {
   "cell_type": "code",
   "execution_count": null,
   "id": "48e2230e",
   "metadata": {},
   "outputs": [],
   "source": [
    "from arch import arch_model\n",
    "\n",
    "# Drop NaNs from transformation if needed\n",
    "series = tdf_complement[\"boxcox\"].dropna()\n",
    "\n",
    "\n",
    "# Fit GARCH(1,1)\n",
    "model = arch_model(series, vol='Garch', p=1, q=1)\n",
    "res = model.fit(disp=\"off\")\n",
    "print(res.summary())"
   ]
  },
  {
   "cell_type": "code",
   "execution_count": null,
   "id": "1d563bd3",
   "metadata": {},
   "outputs": [],
   "source": [
    "def test_stationarity(timeseries):\n",
    "    # Perform Augmented Dickey-Fuller test\n",
    "    adf_result = adfuller(timeseries)\n",
    "    print('ADF Statistic:', adf_result[0])\n",
    "    print('p-value:', adf_result[1])\n",
    "    if adf_result[1] <= 0.05:\n",
    "        print(\"The time series is stationary\")\n",
    "    else:\n",
    "        print(\"The time series is not stationary\")\n",
    "\n",
    "test_stationarity(tdf[\"IPG2211A2N\"].dropna())"
   ]
  },
  {
   "cell_type": "code",
   "execution_count": null,
   "id": "f8e3668d",
   "metadata": {},
   "outputs": [],
   "source": [
    "# removing the trend ---> using the difference method\n",
    "tdf['diff'] = tdf['IPG2211A2N'].diff()\n",
    "test_stationarity(tdf['diff'].dropna())"
   ]
  },
  {
   "cell_type": "code",
   "execution_count": 35,
   "id": "73874749",
   "metadata": {},
   "outputs": [],
   "source": [
    "tdf_complement = tdf.copy()\n",
    "tdf_complement = tdf.drop(\"IPG2211A2N\", axis=1)"
   ]
  },
  {
   "cell_type": "code",
   "execution_count": null,
   "id": "7a9c4ffe",
   "metadata": {},
   "outputs": [],
   "source": [
    "tdf_complement.head()"
   ]
  },
  {
   "cell_type": "code",
   "execution_count": null,
   "id": "42331e9f",
   "metadata": {},
   "outputs": [],
   "source": [
    "from statsmodels.tsa.seasonal import seasonal_decompose\n",
    "# Decompose the time series data\n",
    "result = seasonal_decompose(tdf_complement[\"diff\"].dropna(), model='additive', period=12)\n",
    "# Plot decomposition\n",
    "result.plot()\n",
    "plt.show()"
   ]
  },
  {
   "cell_type": "code",
   "execution_count": null,
   "id": "ae270cb0",
   "metadata": {},
   "outputs": [],
   "source": [
    "tdf_complement.isnull().sum()"
   ]
  },
  {
   "cell_type": "code",
   "execution_count": null,
   "id": "47e92d7b",
   "metadata": {},
   "outputs": [],
   "source": [
    "from statsmodels.tsa.seasonal import STL\n",
    "\n",
    "stl = STL(tdf_complement[\"diff\"].dropna(), period=397)\n",
    "result = stl.fit()\n",
    "\n",
    "result.plot()\n",
    "plt.show()"
   ]
  },
  {
   "cell_type": "code",
   "execution_count": null,
   "id": "e6c37bcf",
   "metadata": {},
   "outputs": [],
   "source": [
    "from statsmodels.graphics.tsaplots import plot_acf\n",
    "\n",
    "plot_acf(tdf_complement[\"diff\"].dropna(), lags=100)\n",
    "plt.show()"
   ]
  },
  {
   "cell_type": "code",
   "execution_count": null,
   "id": "dd0c18ac",
   "metadata": {},
   "outputs": [],
   "source": [
    "tdf_complement.isnull().sum()"
   ]
  },
  {
   "cell_type": "code",
   "execution_count": null,
   "id": "46ce086f",
   "metadata": {},
   "outputs": [],
   "source": [
    "tdf_complement.head()"
   ]
  },
  {
   "cell_type": "code",
   "execution_count": null,
   "id": "1c1e7e62",
   "metadata": {},
   "outputs": [],
   "source": [
    "fft_vals = np.fft.fft(tdf_complement[\"diff\"] - tdf_complement[\"diff\"].mean())\n",
    "plt.plot(np.abs(fft_vals))\n",
    "plt.title(\"FFT Magnitudes\")\n",
    "plt.show()"
   ]
  },
  {
   "cell_type": "code",
   "execution_count": 57,
   "id": "96b1cc4b",
   "metadata": {},
   "outputs": [],
   "source": [
    "# using fourier transofmers to  check seasonality\n",
    "\n",
    "signal = tdf_complement[\"diff\"].dropna().values\n",
    "signal_centered = signal - np.mean(signal)\n",
    "\n",
    "# step 2: Apply FFT\n",
    "fft_vals = np.fft.fft(signal_centered)\n",
    "fft_freq =  np.fft.fftfreq(len(signal_centered))\n",
    "\n",
    "# step 3: Take only the positive frequencies\n",
    "positive_freqs = fft_freq[:len(fft_freq) // 2]\n",
    "magnitude = np.abs(fft_vals)[:len(fft_vals) // 2]"
   ]
  },
  {
   "cell_type": "code",
   "execution_count": null,
   "id": "ad98224d",
   "metadata": {},
   "outputs": [],
   "source": [
    "# Step 4: Plot\n",
    "plt.figure(figsize=(12, 4))\n",
    "plt.plot(positive_freqs, magnitude)\n",
    "plt.title(\"Fourier Transform - Frequency Domain\")\n",
    "plt.xlabel(\"Frequency\")\n",
    "plt.ylabel(\"Magnitude\")\n",
    "plt.grid(True)\n",
    "plt.show()"
   ]
  },
  {
   "cell_type": "code",
   "execution_count": null,
   "id": "03fbe92a",
   "metadata": {},
   "outputs": [],
   "source": []
  }
 ],
 "metadata": {
  "kernelspec": {
   "display_name": "tsa0",
   "language": "python",
   "name": "python3"
  },
  "language_info": {
   "codemirror_mode": {
    "name": "ipython",
    "version": 3
   },
   "file_extension": ".py",
   "mimetype": "text/x-python",
   "name": "python",
   "nbconvert_exporter": "python",
   "pygments_lexer": "ipython3",
   "version": "3.12.3"
  }
 },
 "nbformat": 4,
 "nbformat_minor": 5
}
